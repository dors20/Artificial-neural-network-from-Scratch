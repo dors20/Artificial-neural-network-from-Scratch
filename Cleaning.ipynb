{
 "cells": [
  {
   "cell_type": "code",
   "execution_count": 1,
   "metadata": {},
   "outputs": [
    {
     "name": "stdout",
     "output_type": "stream",
     "text": [
      "<class 'pandas.core.frame.DataFrame'>\n",
      "RangeIndex: 96 entries, 0 to 95\n",
      "Data columns (total 10 columns):\n",
      " #   Column          Non-Null Count  Dtype  \n",
      "---  ------          --------------  -----  \n",
      " 0   Community       96 non-null     int64  \n",
      " 1   Age             89 non-null     float64\n",
      " 2   Weight          85 non-null     float64\n",
      " 3   Delivery phase  92 non-null     float64\n",
      " 4   HB              77 non-null     float64\n",
      " 5   IFA             96 non-null     int64  \n",
      " 6   BP              81 non-null     float64\n",
      " 7   Education       93 non-null     float64\n",
      " 8   Residence       94 non-null     float64\n",
      " 9   Result          96 non-null     int64  \n",
      "dtypes: float64(7), int64(3)\n",
      "memory usage: 7.6 KB\n",
      "Community:4\n",
      "Age:14\n",
      "Weight:28\n",
      "Delivery phase:2\n",
      "HB:22\n",
      "IFA:2\n",
      "BP:20\n",
      "Education:1\n",
      "Residence:2\n",
      "Result:2\n",
      "9.076623376623376\n"
     ]
    }
   ],
   "source": [
    "import pandas as pd\n",
    "import numpy as np\n",
    "\n",
    "from sklearn.model_selection import train_test_split\n",
    " \n",
    "#To reset seed so same set of numbers are produced\n",
    "np.random.seed(0)\n",
    "\n",
    "#inputing the dataset\n",
    "data = pd.read_csv('LBW_Dataset.csv') \n",
    "data.head(5)\n",
    "data.info()\n",
    "\n",
    "#Count of null values column wise\n",
    "data.isnull().sum()\n",
    "\n",
    "#Inspect unique values in every feature\n",
    "for col in data.columns:\n",
    "    print(\"{}:{}\".format(col,data[col].nunique()))\n",
    "\n",
    "#Basic statistics feautre wise\n",
    "data.describe()\n",
    "\n",
    "#NO null values in community column\n",
    "data['Community'].value_counts()\n",
    "\n",
    "data['Residence'].value_counts()\n",
    "\n",
    "# FIll Age ,Weight ,HB and BP  Null values with mean\n",
    "# Delivery phase with 1 since the coulmn takes binary values\n",
    "# Education with 5\n",
    "#Residence with 1\n",
    "\n",
    "#returns all the features\n",
    "data.columns\n",
    "\n",
    "#used to fill the \"HB\" feature by mean\n",
    "x=data['HB'].mean()\n",
    "print(x)\n",
    "\n",
    "# A dict containing column wise values used to fill the null values\n",
    "values = { 'Age':data['Age'].mean(), 'Weight':data['Weight'].mean(), 'Delivery phase':1, 'HB':9.0, 'BP':data['BP'].mean(),\n",
    "       'Education':5, 'Residence':1}\n",
    "data = data.fillna(value=values)\n",
    "data.head(3)\n",
    "data.isnull().sum() #no nulls values the dataset is now cleaned\n",
    "\n",
    "#Writing the cleaned output to new file\n",
    "data.to_csv(\"LBW_Dataset_cleaned.csv\")"
   ]
  },
  {
   "cell_type": "code",
   "execution_count": null,
   "metadata": {},
   "outputs": [],
   "source": []
  }
 ],
 "metadata": {
  "kernelspec": {
   "display_name": "Python 3",
   "language": "python",
   "name": "python3"
  },
  "language_info": {
   "codemirror_mode": {
    "name": "ipython",
    "version": 3
   },
   "file_extension": ".py",
   "mimetype": "text/x-python",
   "name": "python",
   "nbconvert_exporter": "python",
   "pygments_lexer": "ipython3",
   "version": "3.7.6"
  }
 },
 "nbformat": 4,
 "nbformat_minor": 4
}
