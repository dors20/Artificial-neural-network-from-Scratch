{
 "cells": [
  {
   "cell_type": "code",
   "execution_count": 1,
   "metadata": {},
   "outputs": [],
   "source": [
    "import pandas as pd\n",
    "import numpy as np\n",
    "\n",
    "np.random.seed(0)"
   ]
  },
  {
   "cell_type": "code",
   "execution_count": 2,
   "metadata": {},
   "outputs": [],
   "source": [
    "data = pd.read_csv('LBW_Dataset.csv')"
   ]
  },
  {
   "cell_type": "code",
   "execution_count": 3,
   "metadata": {},
   "outputs": [
    {
     "data": {
      "text/html": [
       "<div>\n",
       "<style scoped>\n",
       "    .dataframe tbody tr th:only-of-type {\n",
       "        vertical-align: middle;\n",
       "    }\n",
       "\n",
       "    .dataframe tbody tr th {\n",
       "        vertical-align: top;\n",
       "    }\n",
       "\n",
       "    .dataframe thead th {\n",
       "        text-align: right;\n",
       "    }\n",
       "</style>\n",
       "<table border=\"1\" class=\"dataframe\">\n",
       "  <thead>\n",
       "    <tr style=\"text-align: right;\">\n",
       "      <th></th>\n",
       "      <th>Community</th>\n",
       "      <th>Age</th>\n",
       "      <th>Weight</th>\n",
       "      <th>Delivery phase</th>\n",
       "      <th>HB</th>\n",
       "      <th>IFA</th>\n",
       "      <th>BP</th>\n",
       "      <th>Education</th>\n",
       "      <th>Residence</th>\n",
       "      <th>Result</th>\n",
       "    </tr>\n",
       "  </thead>\n",
       "  <tbody>\n",
       "    <tr>\n",
       "      <th>0</th>\n",
       "      <td>1</td>\n",
       "      <td>21.0</td>\n",
       "      <td>42.0</td>\n",
       "      <td>1.0</td>\n",
       "      <td>9.2</td>\n",
       "      <td>1</td>\n",
       "      <td>1.375</td>\n",
       "      <td>5.0</td>\n",
       "      <td>1.0</td>\n",
       "      <td>0</td>\n",
       "    </tr>\n",
       "    <tr>\n",
       "      <th>1</th>\n",
       "      <td>1</td>\n",
       "      <td>21.0</td>\n",
       "      <td>NaN</td>\n",
       "      <td>1.0</td>\n",
       "      <td>8.8</td>\n",
       "      <td>1</td>\n",
       "      <td>1.500</td>\n",
       "      <td>5.0</td>\n",
       "      <td>1.0</td>\n",
       "      <td>0</td>\n",
       "    </tr>\n",
       "    <tr>\n",
       "      <th>2</th>\n",
       "      <td>1</td>\n",
       "      <td>21.0</td>\n",
       "      <td>NaN</td>\n",
       "      <td>1.0</td>\n",
       "      <td>9.2</td>\n",
       "      <td>1</td>\n",
       "      <td>2.125</td>\n",
       "      <td>5.0</td>\n",
       "      <td>1.0</td>\n",
       "      <td>0</td>\n",
       "    </tr>\n",
       "    <tr>\n",
       "      <th>3</th>\n",
       "      <td>1</td>\n",
       "      <td>21.0</td>\n",
       "      <td>NaN</td>\n",
       "      <td>1.0</td>\n",
       "      <td>8.0</td>\n",
       "      <td>1</td>\n",
       "      <td>1.375</td>\n",
       "      <td>5.0</td>\n",
       "      <td>1.0</td>\n",
       "      <td>0</td>\n",
       "    </tr>\n",
       "    <tr>\n",
       "      <th>4</th>\n",
       "      <td>1</td>\n",
       "      <td>24.0</td>\n",
       "      <td>33.0</td>\n",
       "      <td>1.0</td>\n",
       "      <td>9.3</td>\n",
       "      <td>1</td>\n",
       "      <td>1.571</td>\n",
       "      <td>5.0</td>\n",
       "      <td>1.0</td>\n",
       "      <td>0</td>\n",
       "    </tr>\n",
       "  </tbody>\n",
       "</table>\n",
       "</div>"
      ],
      "text/plain": [
       "   Community   Age  Weight  Delivery phase   HB  IFA     BP  Education  \\\n",
       "0          1  21.0    42.0             1.0  9.2    1  1.375        5.0   \n",
       "1          1  21.0     NaN             1.0  8.8    1  1.500        5.0   \n",
       "2          1  21.0     NaN             1.0  9.2    1  2.125        5.0   \n",
       "3          1  21.0     NaN             1.0  8.0    1  1.375        5.0   \n",
       "4          1  24.0    33.0             1.0  9.3    1  1.571        5.0   \n",
       "\n",
       "   Residence  Result  \n",
       "0        1.0       0  \n",
       "1        1.0       0  \n",
       "2        1.0       0  \n",
       "3        1.0       0  \n",
       "4        1.0       0  "
      ]
     },
     "execution_count": 3,
     "metadata": {},
     "output_type": "execute_result"
    }
   ],
   "source": [
    "data.head(5)"
   ]
  },
  {
   "cell_type": "code",
   "execution_count": 4,
   "metadata": {},
   "outputs": [
    {
     "name": "stdout",
     "output_type": "stream",
     "text": [
      "<class 'pandas.core.frame.DataFrame'>\n",
      "RangeIndex: 96 entries, 0 to 95\n",
      "Data columns (total 10 columns):\n",
      " #   Column          Non-Null Count  Dtype  \n",
      "---  ------          --------------  -----  \n",
      " 0   Community       96 non-null     int64  \n",
      " 1   Age             89 non-null     float64\n",
      " 2   Weight          85 non-null     float64\n",
      " 3   Delivery phase  92 non-null     float64\n",
      " 4   HB              77 non-null     float64\n",
      " 5   IFA             96 non-null     int64  \n",
      " 6   BP              81 non-null     float64\n",
      " 7   Education       93 non-null     float64\n",
      " 8   Residence       94 non-null     float64\n",
      " 9   Result          96 non-null     int64  \n",
      "dtypes: float64(7), int64(3)\n",
      "memory usage: 7.6 KB\n"
     ]
    }
   ],
   "source": [
    "data.info()"
   ]
  },
  {
   "cell_type": "code",
   "execution_count": 5,
   "metadata": {},
   "outputs": [
    {
     "data": {
      "text/plain": [
       "Community          0\n",
       "Age                7\n",
       "Weight            11\n",
       "Delivery phase     4\n",
       "HB                19\n",
       "IFA                0\n",
       "BP                15\n",
       "Education          3\n",
       "Residence          2\n",
       "Result             0\n",
       "dtype: int64"
      ]
     },
     "execution_count": 5,
     "metadata": {},
     "output_type": "execute_result"
    }
   ],
   "source": [
    "data.isnull().sum()"
   ]
  },
  {
   "cell_type": "code",
   "execution_count": 6,
   "metadata": {},
   "outputs": [
    {
     "name": "stdout",
     "output_type": "stream",
     "text": [
      "Community:4\n",
      "Age:14\n",
      "Weight:28\n",
      "Delivery phase:2\n",
      "HB:22\n",
      "IFA:2\n",
      "BP:20\n",
      "Education:1\n",
      "Residence:2\n",
      "Result:2\n"
     ]
    }
   ],
   "source": [
    "for col in data.columns:\n",
    "    print(\"{}:{}\".format(col,data[col].nunique()))"
   ]
  },
  {
   "cell_type": "code",
   "execution_count": 7,
   "metadata": {},
   "outputs": [
    {
     "data": {
      "text/html": [
       "<div>\n",
       "<style scoped>\n",
       "    .dataframe tbody tr th:only-of-type {\n",
       "        vertical-align: middle;\n",
       "    }\n",
       "\n",
       "    .dataframe tbody tr th {\n",
       "        vertical-align: top;\n",
       "    }\n",
       "\n",
       "    .dataframe thead th {\n",
       "        text-align: right;\n",
       "    }\n",
       "</style>\n",
       "<table border=\"1\" class=\"dataframe\">\n",
       "  <thead>\n",
       "    <tr style=\"text-align: right;\">\n",
       "      <th></th>\n",
       "      <th>Community</th>\n",
       "      <th>Age</th>\n",
       "      <th>Weight</th>\n",
       "      <th>Delivery phase</th>\n",
       "      <th>HB</th>\n",
       "      <th>IFA</th>\n",
       "      <th>BP</th>\n",
       "      <th>Education</th>\n",
       "      <th>Residence</th>\n",
       "      <th>Result</th>\n",
       "    </tr>\n",
       "  </thead>\n",
       "  <tbody>\n",
       "    <tr>\n",
       "      <th>count</th>\n",
       "      <td>96.000000</td>\n",
       "      <td>89.000000</td>\n",
       "      <td>85.000000</td>\n",
       "      <td>92.000000</td>\n",
       "      <td>77.000000</td>\n",
       "      <td>96.000000</td>\n",
       "      <td>81.000000</td>\n",
       "      <td>93.0</td>\n",
       "      <td>94.000000</td>\n",
       "      <td>96.000000</td>\n",
       "    </tr>\n",
       "    <tr>\n",
       "      <th>mean</th>\n",
       "      <td>2.177083</td>\n",
       "      <td>23.752809</td>\n",
       "      <td>45.129412</td>\n",
       "      <td>1.021739</td>\n",
       "      <td>9.076623</td>\n",
       "      <td>0.687500</td>\n",
       "      <td>1.725189</td>\n",
       "      <td>5.0</td>\n",
       "      <td>1.138298</td>\n",
       "      <td>0.750000</td>\n",
       "    </tr>\n",
       "    <tr>\n",
       "      <th>std</th>\n",
       "      <td>1.213909</td>\n",
       "      <td>3.321011</td>\n",
       "      <td>8.215532</td>\n",
       "      <td>0.146630</td>\n",
       "      <td>0.788052</td>\n",
       "      <td>0.465946</td>\n",
       "      <td>1.449447</td>\n",
       "      <td>0.0</td>\n",
       "      <td>0.347063</td>\n",
       "      <td>0.435286</td>\n",
       "    </tr>\n",
       "    <tr>\n",
       "      <th>min</th>\n",
       "      <td>1.000000</td>\n",
       "      <td>17.000000</td>\n",
       "      <td>30.000000</td>\n",
       "      <td>1.000000</td>\n",
       "      <td>5.900000</td>\n",
       "      <td>0.000000</td>\n",
       "      <td>1.200000</td>\n",
       "      <td>5.0</td>\n",
       "      <td>1.000000</td>\n",
       "      <td>0.000000</td>\n",
       "    </tr>\n",
       "    <tr>\n",
       "      <th>25%</th>\n",
       "      <td>1.000000</td>\n",
       "      <td>21.000000</td>\n",
       "      <td>40.000000</td>\n",
       "      <td>1.000000</td>\n",
       "      <td>8.900000</td>\n",
       "      <td>0.000000</td>\n",
       "      <td>1.375000</td>\n",
       "      <td>5.0</td>\n",
       "      <td>1.000000</td>\n",
       "      <td>0.750000</td>\n",
       "    </tr>\n",
       "    <tr>\n",
       "      <th>50%</th>\n",
       "      <td>2.500000</td>\n",
       "      <td>24.000000</td>\n",
       "      <td>43.000000</td>\n",
       "      <td>1.000000</td>\n",
       "      <td>9.000000</td>\n",
       "      <td>1.000000</td>\n",
       "      <td>1.500000</td>\n",
       "      <td>5.0</td>\n",
       "      <td>1.000000</td>\n",
       "      <td>1.000000</td>\n",
       "    </tr>\n",
       "    <tr>\n",
       "      <th>75%</th>\n",
       "      <td>3.000000</td>\n",
       "      <td>26.000000</td>\n",
       "      <td>50.000000</td>\n",
       "      <td>1.000000</td>\n",
       "      <td>9.200000</td>\n",
       "      <td>1.000000</td>\n",
       "      <td>1.661538</td>\n",
       "      <td>5.0</td>\n",
       "      <td>1.000000</td>\n",
       "      <td>1.000000</td>\n",
       "    </tr>\n",
       "    <tr>\n",
       "      <th>max</th>\n",
       "      <td>4.000000</td>\n",
       "      <td>38.000000</td>\n",
       "      <td>65.000000</td>\n",
       "      <td>2.000000</td>\n",
       "      <td>11.000000</td>\n",
       "      <td>1.000000</td>\n",
       "      <td>13.875000</td>\n",
       "      <td>5.0</td>\n",
       "      <td>2.000000</td>\n",
       "      <td>1.000000</td>\n",
       "    </tr>\n",
       "  </tbody>\n",
       "</table>\n",
       "</div>"
      ],
      "text/plain": [
       "       Community        Age     Weight  Delivery phase         HB        IFA  \\\n",
       "count  96.000000  89.000000  85.000000       92.000000  77.000000  96.000000   \n",
       "mean    2.177083  23.752809  45.129412        1.021739   9.076623   0.687500   \n",
       "std     1.213909   3.321011   8.215532        0.146630   0.788052   0.465946   \n",
       "min     1.000000  17.000000  30.000000        1.000000   5.900000   0.000000   \n",
       "25%     1.000000  21.000000  40.000000        1.000000   8.900000   0.000000   \n",
       "50%     2.500000  24.000000  43.000000        1.000000   9.000000   1.000000   \n",
       "75%     3.000000  26.000000  50.000000        1.000000   9.200000   1.000000   \n",
       "max     4.000000  38.000000  65.000000        2.000000  11.000000   1.000000   \n",
       "\n",
       "              BP  Education  Residence     Result  \n",
       "count  81.000000       93.0  94.000000  96.000000  \n",
       "mean    1.725189        5.0   1.138298   0.750000  \n",
       "std     1.449447        0.0   0.347063   0.435286  \n",
       "min     1.200000        5.0   1.000000   0.000000  \n",
       "25%     1.375000        5.0   1.000000   0.750000  \n",
       "50%     1.500000        5.0   1.000000   1.000000  \n",
       "75%     1.661538        5.0   1.000000   1.000000  \n",
       "max    13.875000        5.0   2.000000   1.000000  "
      ]
     },
     "execution_count": 7,
     "metadata": {},
     "output_type": "execute_result"
    }
   ],
   "source": [
    "data.describe()\n"
   ]
  },
  {
   "cell_type": "code",
   "execution_count": 8,
   "metadata": {},
   "outputs": [
    {
     "data": {
      "text/plain": [
       "1    47\n",
       "3    32\n",
       "4    16\n",
       "2     1\n",
       "Name: Community, dtype: int64"
      ]
     },
     "execution_count": 8,
     "metadata": {},
     "output_type": "execute_result"
    }
   ],
   "source": [
    "data['Community'].value_counts()\n",
    "#NO null values in community column"
   ]
  },
  {
   "cell_type": "code",
   "execution_count": 9,
   "metadata": {},
   "outputs": [
    {
     "data": {
      "text/plain": [
       "1.0    81\n",
       "2.0    13\n",
       "Name: Residence, dtype: int64"
      ]
     },
     "execution_count": 9,
     "metadata": {},
     "output_type": "execute_result"
    }
   ],
   "source": [
    "data['Residence'].value_counts()"
   ]
  },
  {
   "cell_type": "code",
   "execution_count": 10,
   "metadata": {},
   "outputs": [],
   "source": [
    "# FIll Age ,Weight ,HB and BP  Null values with mean\n",
    "# Delivery phase with 1 since the coulmn takes binary values\n",
    "# Education with 5\n",
    "#Residence with 1"
   ]
  },
  {
   "cell_type": "code",
   "execution_count": 11,
   "metadata": {},
   "outputs": [
    {
     "data": {
      "text/plain": [
       "Index(['Community', 'Age', 'Weight', 'Delivery phase', 'HB', 'IFA', 'BP',\n",
       "       'Education', 'Residence', 'Result'],\n",
       "      dtype='object')"
      ]
     },
     "execution_count": 11,
     "metadata": {},
     "output_type": "execute_result"
    }
   ],
   "source": [
    "data.columns"
   ]
  },
  {
   "cell_type": "code",
   "execution_count": 12,
   "metadata": {},
   "outputs": [
    {
     "name": "stdout",
     "output_type": "stream",
     "text": [
      "9.076623376623376\n"
     ]
    }
   ],
   "source": [
    "x=data['HB'].mean()\n",
    "print(x)"
   ]
  },
  {
   "cell_type": "code",
   "execution_count": 13,
   "metadata": {},
   "outputs": [],
   "source": [
    "values = { 'Age':data['Age'].mean(), 'Weight':data['Weight'].mean(), 'Delivery phase':1, 'HB':9.0, 'BP':data['BP'].mean(),\n",
    "       'Education':5, 'Residence':1}"
   ]
  },
  {
   "cell_type": "code",
   "execution_count": 14,
   "metadata": {},
   "outputs": [],
   "source": [
    "data = data.fillna(value=values)"
   ]
  },
  {
   "cell_type": "code",
   "execution_count": 15,
   "metadata": {},
   "outputs": [
    {
     "data": {
      "text/html": [
       "<div>\n",
       "<style scoped>\n",
       "    .dataframe tbody tr th:only-of-type {\n",
       "        vertical-align: middle;\n",
       "    }\n",
       "\n",
       "    .dataframe tbody tr th {\n",
       "        vertical-align: top;\n",
       "    }\n",
       "\n",
       "    .dataframe thead th {\n",
       "        text-align: right;\n",
       "    }\n",
       "</style>\n",
       "<table border=\"1\" class=\"dataframe\">\n",
       "  <thead>\n",
       "    <tr style=\"text-align: right;\">\n",
       "      <th></th>\n",
       "      <th>Community</th>\n",
       "      <th>Age</th>\n",
       "      <th>Weight</th>\n",
       "      <th>Delivery phase</th>\n",
       "      <th>HB</th>\n",
       "      <th>IFA</th>\n",
       "      <th>BP</th>\n",
       "      <th>Education</th>\n",
       "      <th>Residence</th>\n",
       "      <th>Result</th>\n",
       "    </tr>\n",
       "  </thead>\n",
       "  <tbody>\n",
       "    <tr>\n",
       "      <th>0</th>\n",
       "      <td>1</td>\n",
       "      <td>21.0</td>\n",
       "      <td>42.000000</td>\n",
       "      <td>1.0</td>\n",
       "      <td>9.2</td>\n",
       "      <td>1</td>\n",
       "      <td>1.375</td>\n",
       "      <td>5.0</td>\n",
       "      <td>1.0</td>\n",
       "      <td>0</td>\n",
       "    </tr>\n",
       "    <tr>\n",
       "      <th>1</th>\n",
       "      <td>1</td>\n",
       "      <td>21.0</td>\n",
       "      <td>45.129412</td>\n",
       "      <td>1.0</td>\n",
       "      <td>8.8</td>\n",
       "      <td>1</td>\n",
       "      <td>1.500</td>\n",
       "      <td>5.0</td>\n",
       "      <td>1.0</td>\n",
       "      <td>0</td>\n",
       "    </tr>\n",
       "    <tr>\n",
       "      <th>2</th>\n",
       "      <td>1</td>\n",
       "      <td>21.0</td>\n",
       "      <td>45.129412</td>\n",
       "      <td>1.0</td>\n",
       "      <td>9.2</td>\n",
       "      <td>1</td>\n",
       "      <td>2.125</td>\n",
       "      <td>5.0</td>\n",
       "      <td>1.0</td>\n",
       "      <td>0</td>\n",
       "    </tr>\n",
       "  </tbody>\n",
       "</table>\n",
       "</div>"
      ],
      "text/plain": [
       "   Community   Age     Weight  Delivery phase   HB  IFA     BP  Education  \\\n",
       "0          1  21.0  42.000000             1.0  9.2    1  1.375        5.0   \n",
       "1          1  21.0  45.129412             1.0  8.8    1  1.500        5.0   \n",
       "2          1  21.0  45.129412             1.0  9.2    1  2.125        5.0   \n",
       "\n",
       "   Residence  Result  \n",
       "0        1.0       0  \n",
       "1        1.0       0  \n",
       "2        1.0       0  "
      ]
     },
     "execution_count": 15,
     "metadata": {},
     "output_type": "execute_result"
    }
   ],
   "source": [
    "data.head(3)"
   ]
  },
  {
   "cell_type": "code",
   "execution_count": 16,
   "metadata": {},
   "outputs": [
    {
     "data": {
      "text/plain": [
       "Community         0\n",
       "Age               0\n",
       "Weight            0\n",
       "Delivery phase    0\n",
       "HB                0\n",
       "IFA               0\n",
       "BP                0\n",
       "Education         0\n",
       "Residence         0\n",
       "Result            0\n",
       "dtype: int64"
      ]
     },
     "execution_count": 16,
     "metadata": {},
     "output_type": "execute_result"
    }
   ],
   "source": [
    "data.isnull().sum()"
   ]
  },
  {
   "cell_type": "code",
   "execution_count": 17,
   "metadata": {},
   "outputs": [],
   "source": [
    "def sigmoid(x):\n",
    "    return 1/(1+np.exp(-x))\n",
    "#activation function"
   ]
  },
  {
   "cell_type": "code",
   "execution_count": 18,
   "metadata": {},
   "outputs": [
    {
     "data": {
      "text/plain": [
       "1    72\n",
       "0    24\n",
       "Name: Result, dtype: int64"
      ]
     },
     "execution_count": 18,
     "metadata": {},
     "output_type": "execute_result"
    }
   ],
   "source": [
    "data['Result'].value_counts()\n"
   ]
  },
  {
   "cell_type": "code",
   "execution_count": 19,
   "metadata": {},
   "outputs": [],
   "source": [
    "data=data.drop(columns='Education')\n"
   ]
  },
  {
   "cell_type": "code",
   "execution_count": 20,
   "metadata": {},
   "outputs": [],
   "source": [
    "#75% of the result column is 1 so the model might over fit "
   ]
  },
  {
   "cell_type": "code",
   "execution_count": 21,
   "metadata": {},
   "outputs": [],
   "source": [
    "#"
   ]
  },
  {
   "cell_type": "code",
   "execution_count": 22,
   "metadata": {},
   "outputs": [],
   "source": [
    "class ANN_layers:\n",
    "    def __init__(self,num_inputs ,num_cells):\n",
    "        self.weights = 0.1 * np.random.randn(num_inputs,num_cells) #in range[-1,1]\n",
    "        self.biases = np.zeros((1,num_cells))\n",
    "    def fpropogation(self , inputs):\n",
    "        self.inputs= inputs\n",
    "        self.output= np.dot(inputs ,self.weights)\n",
    "    def Bpropogation(self,dval):\n",
    "        self.dweights= np.dot(self.inputs.T,dval)\n",
    "        self.dbiases = np.sum(dval,axis=0,keepdims=True)\n",
    "        self.dinputs =np.dot(dval,self.weights.T)\n",
    "\n",
    "def confidenceTolist(x):\n",
    "    rows = x.shape[0]\n",
    "    cols = x.shape[1]\n",
    "    predict=[None]*rows\n",
    "    for i in range(0,rows):\n",
    "        if(x[i,0]>x[i,1]):\n",
    "            predict[i]=0\n",
    "        else:\n",
    "            predict[i]=1\n",
    "    return predict\n",
    "        \n",
    "        \n",
    "    \n",
    "        \n",
    "class activation:\n",
    "    def fRelu(self,x):\n",
    "        self.inputs=x\n",
    "        self.output = np.maximum(0,x)\n",
    "        #sigmoid\n",
    "        #self.inputs =x\n",
    "        #self.output = 1/(1+np.exp(-x))\n",
    "        #self.output = np.tanh(x) #tanh\n",
    "    def sigmoid(self,x):\n",
    "        self.inputs =x\n",
    "        self.output = 1/(1+np.exp(-x))\n",
    "    \n",
    "    def tanh(self,x):\n",
    "        self.inputs =x\n",
    "        self.output = np.tanh(x)\n",
    "        \n",
    "    def back(self,dval):\n",
    "        self.dinputs = dval.copy()\n",
    "        self.dinputs[self.inputs <=0] =0 \n",
    "        \n",
    "\n",
    "class act_softmax :       \n",
    "    def fsoftmax(self,inputs):\n",
    "        self.inputs = inputs\n",
    "        exp1 = np.exp(inputs - np.max(inputs, axis=1, keepdims=True))\n",
    "        prob = exp1 /np.sum(exp1 ,axis=1, keepdims=True)\n",
    "        self.output = prob\n",
    "        \n",
    "    def bsoftmax(self,dval):\n",
    "        self.dinputs = np.empty_like(dval)\n",
    "        \n",
    "        for i ,(single_o,single_dval) in enumerate(zip(self.output,dval)):\n",
    "            single_o = single_o.reshape(-1,1)\n",
    "            jacobian = np.diagflat(single_o)-np.dot(single_o,single_o.T)\n",
    "            self.dinputs[i] = np.dot(jacobian,single_dval)\n",
    "        \n",
    "class loss:\n",
    "    def cal(self,output,y):\n",
    "        sampleLosses = self.check(output,y)\n",
    "        data_loss= np.mean(sampleLosses)\n",
    "        return data_loss\n",
    "    \n",
    "class CCE(loss):\n",
    "    def check(self,y_pred,y_true):\n",
    "        x = len(y_pred)\n",
    "        y_pred_clipped = np.clip(y_pred ,1e-7,1 - 1e-7)\n",
    "        confidence = y_pred_clipped[range(x),y_true]\n",
    "        negLikely = -np.log(confidence)\n",
    "        return negLikely\n",
    "    \n",
    "    def backward(self,dval,y_true):\n",
    "        \n",
    "        x=len(dval)\n",
    "        label=len(dval[0])\n",
    "        if len(y_true.shape)==1:\n",
    "            y_true=np.eye(label)[y_true] #\n",
    "        self.dinputs =-y_true/dval\n",
    "        self.dinputs =self.dinputs/x\n"
   ]
  },
  {
   "cell_type": "code",
   "execution_count": 23,
   "metadata": {},
   "outputs": [],
   "source": [
    "class optimizer:\n",
    "    \n",
    "    def __init__(self , l_rate=1.,decay=0.,p=0.):\n",
    "        self.l_rate = l_rate\n",
    "        self.curr_l_rate=l_rate\n",
    "        self.decay = decay\n",
    "        self.iter =0\n",
    "        self.p =p\n",
    "        \n",
    "    def initial_update_param(self):\n",
    "        if self.decay:\n",
    "            self.curr_l_rate = self.l_rate *(1./(1+self.decay*self.iter))\n",
    "            \n",
    "    def update_params(self,layer):\n",
    "        if self.p:\n",
    "            if not hasattr(layer,'wieght_momentums'):\n",
    "                layer.weight_p = np.zeros_like(layer.weights)\n",
    "                layer.bias_p = np.zeros_like(layer.biases)\n",
    "            \n",
    "            w_updates= self.p*layer.weight_p - self_curr_l_rate*layer.dweights\n",
    "            layer.weight_p = w_updates\n",
    "            \n",
    "            b_updates= self.p*layer.bias_p - self_curr_l_rate*layer.dbiases\n",
    "            layer.bias_p = b_updates\n",
    "        \n",
    "        else:\n",
    "            w_updates =-self.curr_l_rate * layer.dweights\n",
    "            b_updates =-self.curr_l_rate * layer.dbiases\n",
    "            \n",
    "        layer.weights+=w_updates\n",
    "        layer.biases+=b_updates\n",
    "        \n",
    "    def post_update_params(self):\n",
    "        self.iter+=1"
   ]
  },
  {
   "cell_type": "code",
   "execution_count": 24,
   "metadata": {},
   "outputs": [],
   "source": [
    "class Activation_softmax_LCCE():\n",
    "    \n",
    "    def __init__(self):\n",
    "        self.activation=act_softmax()\n",
    "        self.loss=CCE()\n",
    "    \n",
    "    def forward(self,inputs,y_true):\n",
    "        self.activation.fsoftmax(inputs)\n",
    "        self.output=self.activation.output\n",
    "        \n",
    "        return self.loss.cal(self.output,y_true)\n",
    "        \n",
    "    def backpass(self,dval,y_true):\n",
    "        x=len(dval)\n",
    "        if len(y_true.shape)==2:\n",
    "            y_true = np.argmax(y_true,axis=1)\n",
    "        \n",
    "        self.dinputs =dval.copy()\n",
    "        self.dinputs[range(x),y_true]-=1\n",
    "        self.dinputs= self.dinputs/x"
   ]
  },
  {
   "cell_type": "raw",
   "metadata": {},
   "source": [
    "\"\"\"\n",
    "Hlayer1 =ANN_layers(8,8)\n",
    "Hlayer2 =ANN_layers(8,5)\n",
    "Output_layer=ANN_layers(5,2)\n",
    "input1= data.loc[:,['Community', 'Age', 'Weight', 'Delivery phase', 'HB', 'IFA', 'BP',\n",
    "        'Residence' ]]\n",
    "#Hlayer1.fpropogation(input1)\n",
    "#print(Hlayer1.output)\n",
    "print(Hlayer1.output.shape[0])\n",
    "a1=activation()\n",
    "a1.fRelu(Hlayer1.output)\n",
    "#print(a1.output)\n",
    "Hlayer2.fpropogation(a1.output)\n",
    "#print(Hlayer2.output)\n",
    "a2=activation()\n",
    "a2.fRelu(Hlayer2.output)\n",
    "Output_layer.fpropogation(a2.output)\n",
    "a3=act_softmax()\n",
    "a3.fsoftmax(Output_layer.output)\n",
    "print(a3.output[:10])\n",
    "#Categorical cross-entropy is explicitly used to compare\n",
    "#a “ground-truth” probability ( y or “ targets ”)\n",
    "result=data[\"Result\"].tolist()\n",
    "result1=data['Result']\n",
    "print(result)\n",
    "loss_calc=CCE()\n",
    "predict= confidenceTolist(a3.output)\n",
    "loss=loss_calc.cal(a3.output,result)\n",
    "print(loss)\n",
    "#print(len(result1.shape))\n",
    "\"\"\""
   ]
  },
  {
   "cell_type": "code",
   "execution_count": 25,
   "metadata": {},
   "outputs": [],
   "source": [
    "input2=data.loc[:,['Community','Age', 'Weight', 'Delivery phase', 'HB', 'IFA', 'BP', 'Residence']] "
   ]
  },
  {
   "cell_type": "code",
   "execution_count": 26,
   "metadata": {},
   "outputs": [],
   "source": [
    "result=data['Result']"
   ]
  },
  {
   "cell_type": "code",
   "execution_count": 27,
   "metadata": {},
   "outputs": [],
   "source": [
    "from sklearn.model_selection import train_test_split"
   ]
  },
  {
   "cell_type": "code",
   "execution_count": 28,
   "metadata": {},
   "outputs": [],
   "source": [
    "input1,x_test, result1, y_test = train_test_split(input2, result, test_size=0.33, random_state=42)"
   ]
  },
  {
   "cell_type": "code",
   "execution_count": 29,
   "metadata": {},
   "outputs": [],
   "source": [
    "Hlayer1=ANN_layers(8,8)"
   ]
  },
  {
   "cell_type": "code",
   "execution_count": 30,
   "metadata": {},
   "outputs": [],
   "source": [
    "Hlayer2=ANN_layers(8,5)"
   ]
  },
  {
   "cell_type": "code",
   "execution_count": 31,
   "metadata": {},
   "outputs": [],
   "source": [
    "Output_layer=ANN_layers(5,2)"
   ]
  },
  {
   "cell_type": "code",
   "execution_count": 32,
   "metadata": {},
   "outputs": [],
   "source": [
    "act1=activation()"
   ]
  },
  {
   "cell_type": "code",
   "execution_count": 33,
   "metadata": {},
   "outputs": [],
   "source": [
    "act2=activation()\n"
   ]
  },
  {
   "cell_type": "code",
   "execution_count": 34,
   "metadata": {},
   "outputs": [],
   "source": [
    "loss_activation=Activation_softmax_LCCE()"
   ]
  },
  {
   "cell_type": "code",
   "execution_count": 35,
   "metadata": {},
   "outputs": [],
   "source": [
    "optimize = optimizer(l_rate=0.025,decay=5e-7)"
   ]
  },
  {
   "cell_type": "code",
   "execution_count": 36,
   "metadata": {},
   "outputs": [
    {
     "name": "stdout",
     "output_type": "stream",
     "text": [
      "epoch:0 ,accuracy:0.766 ,loss:0.6587735504014155 ,lr:0.025,\n",
      "epoch:100 ,accuracy:0.766 ,loss:0.5078592939895408 ,lr:0.02499876256125322,\n",
      "epoch:200 ,accuracy:0.781 ,loss:0.49077066585880796 ,lr:0.02499751274748163,\n",
      "epoch:300 ,accuracy:0.781 ,loss:0.4829642390352103 ,lr:0.024996263058672728,\n",
      "epoch:400 ,accuracy:0.797 ,loss:0.47750894368707675 ,lr:0.02499501349480779,\n",
      "epoch:500 ,accuracy:0.812 ,loss:0.4717508413879079 ,lr:0.024993764055868062,\n",
      "epoch:600 ,accuracy:0.812 ,loss:0.4640404952774372 ,lr:0.024992514741834823,\n",
      "epoch:700 ,accuracy:0.812 ,loss:0.45586080277683516 ,lr:0.024991265552689337,\n",
      "epoch:800 ,accuracy:0.812 ,loss:0.44705328751283024 ,lr:0.024990016488412876,\n",
      "epoch:900 ,accuracy:0.828 ,loss:0.44293385514252986 ,lr:0.024988767548986733,\n",
      "epoch:1000 ,accuracy:0.828 ,loss:0.4393812188815174 ,lr:0.024987518734392172,\n",
      "epoch:1100 ,accuracy:0.828 ,loss:0.4332725529901006 ,lr:0.024986270044610487,\n",
      "epoch:1200 ,accuracy:0.844 ,loss:0.4305591218975239 ,lr:0.024985021479622966,\n",
      "epoch:1300 ,accuracy:0.844 ,loss:0.42378978882059715 ,lr:0.024983773039410906,\n",
      "epoch:1400 ,accuracy:0.844 ,loss:0.418003339086598 ,lr:0.024982524723955592,\n",
      "epoch:1500 ,accuracy:0.844 ,loss:0.42295407121257556 ,lr:0.02498127653323834,\n",
      "epoch:1600 ,accuracy:0.844 ,loss:0.41672578912801705 ,lr:0.024980028467240442,\n",
      "epoch:1700 ,accuracy:0.844 ,loss:0.38770158730611537 ,lr:0.02497878052594321,\n",
      "epoch:1800 ,accuracy:0.844 ,loss:0.4061640198412636 ,lr:0.024977532709327958,\n",
      "epoch:1900 ,accuracy:0.844 ,loss:0.4083241569777779 ,lr:0.024976285017376004,\n",
      "epoch:2000 ,accuracy:0.844 ,loss:0.3787801230512964 ,lr:0.024975037450068654,\n",
      "epoch:2100 ,accuracy:0.844 ,loss:0.3972472126063005 ,lr:0.02497379000738725,\n",
      "epoch:2200 ,accuracy:0.844 ,loss:0.3748140261002604 ,lr:0.0249725426893131,\n",
      "epoch:2300 ,accuracy:0.844 ,loss:0.3500596380549727 ,lr:0.02497129549582755,\n",
      "epoch:2400 ,accuracy:0.844 ,loss:0.3512959189429463 ,lr:0.02497004842691192,\n",
      "epoch:2500 ,accuracy:0.812 ,loss:0.47008756860509615 ,lr:0.02496880148254756,\n",
      "epoch:2600 ,accuracy:0.844 ,loss:0.34162429913633624 ,lr:0.024967554662715802,\n",
      "epoch:2700 ,accuracy:0.828 ,loss:0.32369269588122035 ,lr:0.024966307967398002,\n",
      "epoch:2800 ,accuracy:0.828 ,loss:0.36209783178042526 ,lr:0.02496506139657549,\n",
      "epoch:2900 ,accuracy:0.828 ,loss:0.3262037056416536 ,lr:0.024963814950229642,\n",
      "epoch:3000 ,accuracy:0.797 ,loss:0.4454722688576784 ,lr:0.024962568628341803,\n",
      "epoch:3100 ,accuracy:0.828 ,loss:0.34582000552745407 ,lr:0.02496132243089333,\n",
      "epoch:3200 ,accuracy:0.844 ,loss:0.34514811784822397 ,lr:0.024960076357865596,\n",
      "epoch:3300 ,accuracy:0.859 ,loss:0.3049502673064234 ,lr:0.02495883040923996,\n",
      "epoch:3400 ,accuracy:0.812 ,loss:0.36818864788656974 ,lr:0.024957584584997798,\n",
      "epoch:3500 ,accuracy:0.844 ,loss:0.2959966709590155 ,lr:0.024956338885120482,\n",
      "epoch:3600 ,accuracy:0.844 ,loss:0.2839955731385139 ,lr:0.024955093309589397,\n",
      "epoch:3700 ,accuracy:0.844 ,loss:0.3154380624121736 ,lr:0.024953847858385916,\n",
      "epoch:3800 ,accuracy:0.828 ,loss:0.5151302484185246 ,lr:0.024952602531491435,\n",
      "epoch:3900 ,accuracy:0.844 ,loss:0.3310842539461954 ,lr:0.024951357328887334,\n",
      "epoch:4000 ,accuracy:0.828 ,loss:0.29013860293716 ,lr:0.024950112250555018,\n",
      "epoch:4100 ,accuracy:0.875 ,loss:0.289945695903686 ,lr:0.02494886729647587,\n",
      "epoch:4200 ,accuracy:0.859 ,loss:0.28406023798589625 ,lr:0.02494762246663131,\n",
      "epoch:4300 ,accuracy:0.828 ,loss:0.40176605848312097 ,lr:0.024946377761002725,\n",
      "epoch:4400 ,accuracy:0.828 ,loss:0.32698775124531365 ,lr:0.024945133179571536,\n",
      "epoch:4500 ,accuracy:0.859 ,loss:0.280906024635542 ,lr:0.024943888722319146,\n",
      "epoch:4600 ,accuracy:0.828 ,loss:0.2855626265466309 ,lr:0.024942644389226977,\n",
      "epoch:4700 ,accuracy:0.844 ,loss:0.2876716084455282 ,lr:0.024941400180276442,\n",
      "epoch:4800 ,accuracy:0.906 ,loss:0.2705238500671123 ,lr:0.02494015609544897,\n",
      "epoch:4900 ,accuracy:0.844 ,loss:0.2973476290683431 ,lr:0.024938912134725988,\n",
      "epoch:5000 ,accuracy:0.891 ,loss:0.2674940425927574 ,lr:0.024937668298088925,\n",
      "epoch:5100 ,accuracy:0.891 ,loss:0.26477248648391666 ,lr:0.02493642458551922,\n",
      "epoch:5200 ,accuracy:0.875 ,loss:0.2906514403212305 ,lr:0.024935180996998305,\n",
      "epoch:5300 ,accuracy:0.844 ,loss:0.28682248946814415 ,lr:0.024933937532507625,\n",
      "epoch:5400 ,accuracy:0.859 ,loss:0.30977958824619833 ,lr:0.02493269419202862,\n",
      "epoch:5500 ,accuracy:0.844 ,loss:0.3072240218079092 ,lr:0.024931450975542748,\n",
      "epoch:5600 ,accuracy:0.828 ,loss:0.2964782461465384 ,lr:0.024930207883031453,\n",
      "epoch:5700 ,accuracy:0.828 ,loss:0.30439138111697917 ,lr:0.0249289649144762,\n",
      "epoch:5800 ,accuracy:0.859 ,loss:0.30152566511979184 ,lr:0.024927722069858445,\n",
      "epoch:5900 ,accuracy:0.828 ,loss:0.29813307036963343 ,lr:0.024926479349159657,\n",
      "epoch:6000 ,accuracy:0.828 ,loss:0.30918173232495905 ,lr:0.02492523675236129,\n",
      "epoch:6100 ,accuracy:0.906 ,loss:0.242882121015167 ,lr:0.024923994279444837,\n",
      "epoch:6200 ,accuracy:0.844 ,loss:0.2731666151666852 ,lr:0.024922751930391753,\n",
      "epoch:6300 ,accuracy:0.875 ,loss:0.26575505528472104 ,lr:0.024921509705183528,\n",
      "epoch:6400 ,accuracy:0.891 ,loss:0.2532884256061184 ,lr:0.024920267603801637,\n",
      "epoch:6500 ,accuracy:0.844 ,loss:0.2761918290867101 ,lr:0.024919025626227578,\n",
      "epoch:6600 ,accuracy:0.844 ,loss:0.3020006441084033 ,lr:0.024917783772442827,\n",
      "epoch:6700 ,accuracy:0.844 ,loss:0.3079063485926149 ,lr:0.02491654204242889,\n",
      "epoch:6800 ,accuracy:0.859 ,loss:0.2737706720206033 ,lr:0.02491530043616725,\n",
      "epoch:6900 ,accuracy:0.812 ,loss:0.33201191877600683 ,lr:0.02491405895363942,\n",
      "epoch:7000 ,accuracy:0.906 ,loss:0.22682297629517306 ,lr:0.024912817594826903,\n",
      "epoch:7100 ,accuracy:0.875 ,loss:0.2603070636196573 ,lr:0.024911576359711203,\n",
      "epoch:7200 ,accuracy:0.875 ,loss:0.21754748429462747 ,lr:0.024910335248273838,\n",
      "epoch:7300 ,accuracy:0.875 ,loss:0.27363496590111785 ,lr:0.02490909426049632,\n",
      "epoch:7400 ,accuracy:0.875 ,loss:0.24112562997681225 ,lr:0.024907853396360168,\n",
      "epoch:7500 ,accuracy:0.906 ,loss:0.2028933821045306 ,lr:0.0249066126558469,\n",
      "epoch:7600 ,accuracy:0.891 ,loss:0.2381556154087275 ,lr:0.024905372038938056,\n",
      "epoch:7700 ,accuracy:0.906 ,loss:0.21037030868825296 ,lr:0.024904131545615153,\n",
      "epoch:7800 ,accuracy:0.906 ,loss:0.1995669345352274 ,lr:0.02490289117585974,\n",
      "epoch:7900 ,accuracy:0.906 ,loss:0.24678656101231727 ,lr:0.024901650929653334,\n",
      "epoch:8000 ,accuracy:0.844 ,loss:0.293656980190027 ,lr:0.024900410806977497,\n",
      "epoch:8100 ,accuracy:0.891 ,loss:0.23912318135182692 ,lr:0.02489917080781376,\n",
      "epoch:8200 ,accuracy:0.875 ,loss:0.23718329780069194 ,lr:0.02489793093214368,\n",
      "epoch:8300 ,accuracy:0.844 ,loss:0.33373424413497454 ,lr:0.024896691179948804,\n",
      "epoch:8400 ,accuracy:0.906 ,loss:0.2119832870595652 ,lr:0.024895451551210694,\n",
      "epoch:8500 ,accuracy:0.875 ,loss:0.21726279715539573 ,lr:0.024894212045910902,\n",
      "epoch:8600 ,accuracy:0.844 ,loss:0.3102793827613245 ,lr:0.024892972664031003,\n",
      "epoch:8700 ,accuracy:0.906 ,loss:0.2315488391950623 ,lr:0.02489173340555255,\n",
      "epoch:8800 ,accuracy:0.828 ,loss:0.28211270458694737 ,lr:0.024890494270457128,\n",
      "epoch:8900 ,accuracy:0.828 ,loss:0.2946702978266502 ,lr:0.0248892552587263,\n",
      "epoch:9000 ,accuracy:0.922 ,loss:0.18556281403683522 ,lr:0.024888016370341645,\n",
      "epoch:9100 ,accuracy:0.891 ,loss:0.21869190014511328 ,lr:0.02488677760528476,\n",
      "epoch:9200 ,accuracy:0.859 ,loss:0.2814250064436575 ,lr:0.024885538963537207,\n",
      "epoch:9300 ,accuracy:0.906 ,loss:0.19899254028364477 ,lr:0.0248843004450806,\n",
      "epoch:9400 ,accuracy:0.875 ,loss:0.2292416198687539 ,lr:0.02488306204989651,\n",
      "epoch:9500 ,accuracy:0.922 ,loss:0.21050105020050194 ,lr:0.02488182377796655,\n",
      "epoch:9600 ,accuracy:0.828 ,loss:0.29382667254953876 ,lr:0.024880585629272308,\n",
      "epoch:9700 ,accuracy:0.875 ,loss:0.23418369592115015 ,lr:0.0248793476037954,\n",
      "epoch:9800 ,accuracy:0.812 ,loss:0.27138101878656273 ,lr:0.024878109701517416,\n",
      "epoch:9900 ,accuracy:0.891 ,loss:0.21001282304543495 ,lr:0.024876871922419982,\n",
      "epoch:10000 ,accuracy:0.906 ,loss:0.20517288233679604 ,lr:0.02487563426648471,\n"
     ]
    }
   ],
   "source": [
    "for epoch in range(10001):\n",
    "    Hlayer1.fpropogation(input1)\n",
    "    act1.fRelu(Hlayer1.output)\n",
    "    Hlayer2.fpropogation(act1.output)\n",
    "    act2.fRelu(Hlayer2.output)\n",
    "    Output_layer.fpropogation(act2.output)\n",
    "    loss = loss_activation.forward(Output_layer.output,result1)\n",
    "    prediction = np.argmax(loss_activation.output,axis=1)\n",
    "    if len(result1.shape)==2:\n",
    "        result1=np.argmax(result1,axis=1)\n",
    "    accuracy= np.mean(prediction==result1)\n",
    "    if not epoch %100:\n",
    "        print(f'epoch:{epoch} ,'+\n",
    "              f'accuracy:{accuracy:.3f} ,'+\n",
    "              f'loss:{loss} ,'+\n",
    "              f'lr:{optimize.curr_l_rate},')\n",
    "    loss_activation.backpass(loss_activation.output,result1)\n",
    "    Output_layer.Bpropogation(loss_activation.dinputs)\n",
    "    act2.back(Output_layer.dinputs)\n",
    "    Hlayer2.Bpropogation(act2.dinputs)\n",
    "    act1.back(Hlayer2.dinputs)\n",
    "    Hlayer1.Bpropogation(act1.dinputs)\n",
    "              \n",
    "    optimize.initial_update_param()\n",
    "    optimize.update_params(Hlayer1)\n",
    "    optimize.update_params(Hlayer2)\n",
    "    optimize.update_params(Output_layer)\n",
    "    optimize.post_update_params()"
   ]
  },
  {
   "cell_type": "code",
   "execution_count": 37,
   "metadata": {},
   "outputs": [
    {
     "name": "stdout",
     "output_type": "stream",
     "text": [
      "epoch:10000 ,accuracy:0.688 ,lr:0.02487562189054727,\n"
     ]
    }
   ],
   "source": [
    "Hlayer1.fpropogation(x_test)\n",
    "act1.fRelu(Hlayer1.output)\n",
    "Hlayer2.fpropogation(act1.output)\n",
    "act2.fRelu(Hlayer2.output)\n",
    "Output_layer.fpropogation(act2.output)\n",
    "loss = loss_activation.forward(Output_layer.output,y_test)\n",
    "prediction = np.argmax(loss_activation.output,axis=1)\n",
    "if len(y_test.shape)==2:\n",
    "    result1=np.argmax(y_test,axis=1)\n",
    "accuracy= np.mean(prediction==y_test)\n",
    "print(f'epoch:{epoch} ,'+f'accuracy:{accuracy:.3f} ,'+\n",
    "      f'lr:{optimize.curr_l_rate},')"
   ]
  },
  {
   "cell_type": "code",
   "execution_count": 38,
   "metadata": {},
   "outputs": [],
   "source": [
    "#since dataset is biased towards 1 we will try SMOTE approach"
   ]
  },
  {
   "cell_type": "code",
   "execution_count": 39,
   "metadata": {},
   "outputs": [
    {
     "data": {
      "text/html": [
       "<div>\n",
       "<style scoped>\n",
       "    .dataframe tbody tr th:only-of-type {\n",
       "        vertical-align: middle;\n",
       "    }\n",
       "\n",
       "    .dataframe tbody tr th {\n",
       "        vertical-align: top;\n",
       "    }\n",
       "\n",
       "    .dataframe thead th {\n",
       "        text-align: right;\n",
       "    }\n",
       "</style>\n",
       "<table border=\"1\" class=\"dataframe\">\n",
       "  <thead>\n",
       "    <tr style=\"text-align: right;\">\n",
       "      <th></th>\n",
       "      <th>Community</th>\n",
       "      <th>Age</th>\n",
       "      <th>Weight</th>\n",
       "      <th>Delivery phase</th>\n",
       "      <th>HB</th>\n",
       "      <th>IFA</th>\n",
       "      <th>BP</th>\n",
       "      <th>Residence</th>\n",
       "      <th>Result</th>\n",
       "    </tr>\n",
       "  </thead>\n",
       "  <tbody>\n",
       "    <tr>\n",
       "      <th>0</th>\n",
       "      <td>1</td>\n",
       "      <td>21.0</td>\n",
       "      <td>42.000000</td>\n",
       "      <td>1.0</td>\n",
       "      <td>9.2</td>\n",
       "      <td>1</td>\n",
       "      <td>1.375</td>\n",
       "      <td>1.0</td>\n",
       "      <td>0</td>\n",
       "    </tr>\n",
       "    <tr>\n",
       "      <th>1</th>\n",
       "      <td>1</td>\n",
       "      <td>21.0</td>\n",
       "      <td>45.129412</td>\n",
       "      <td>1.0</td>\n",
       "      <td>8.8</td>\n",
       "      <td>1</td>\n",
       "      <td>1.500</td>\n",
       "      <td>1.0</td>\n",
       "      <td>0</td>\n",
       "    </tr>\n",
       "    <tr>\n",
       "      <th>2</th>\n",
       "      <td>1</td>\n",
       "      <td>21.0</td>\n",
       "      <td>45.129412</td>\n",
       "      <td>1.0</td>\n",
       "      <td>9.2</td>\n",
       "      <td>1</td>\n",
       "      <td>2.125</td>\n",
       "      <td>1.0</td>\n",
       "      <td>0</td>\n",
       "    </tr>\n",
       "  </tbody>\n",
       "</table>\n",
       "</div>"
      ],
      "text/plain": [
       "   Community   Age     Weight  Delivery phase   HB  IFA     BP  Residence  \\\n",
       "0          1  21.0  42.000000             1.0  9.2    1  1.375        1.0   \n",
       "1          1  21.0  45.129412             1.0  8.8    1  1.500        1.0   \n",
       "2          1  21.0  45.129412             1.0  9.2    1  2.125        1.0   \n",
       "\n",
       "   Result  \n",
       "0       0  \n",
       "1       0  \n",
       "2       0  "
      ]
     },
     "execution_count": 39,
     "metadata": {},
     "output_type": "execute_result"
    }
   ],
   "source": [
    "data2=data[(data['Result']==0)]\n",
    "data2.head(3)"
   ]
  },
  {
   "cell_type": "code",
   "execution_count": 40,
   "metadata": {},
   "outputs": [
    {
     "data": {
      "text/html": [
       "<div>\n",
       "<style scoped>\n",
       "    .dataframe tbody tr th:only-of-type {\n",
       "        vertical-align: middle;\n",
       "    }\n",
       "\n",
       "    .dataframe tbody tr th {\n",
       "        vertical-align: top;\n",
       "    }\n",
       "\n",
       "    .dataframe thead th {\n",
       "        text-align: right;\n",
       "    }\n",
       "</style>\n",
       "<table border=\"1\" class=\"dataframe\">\n",
       "  <thead>\n",
       "    <tr style=\"text-align: right;\">\n",
       "      <th></th>\n",
       "      <th>Community</th>\n",
       "      <th>Age</th>\n",
       "      <th>Weight</th>\n",
       "      <th>Delivery phase</th>\n",
       "      <th>HB</th>\n",
       "      <th>IFA</th>\n",
       "      <th>BP</th>\n",
       "      <th>Residence</th>\n",
       "      <th>Result</th>\n",
       "    </tr>\n",
       "  </thead>\n",
       "  <tbody>\n",
       "    <tr>\n",
       "      <th>0</th>\n",
       "      <td>1</td>\n",
       "      <td>21.0</td>\n",
       "      <td>42.000000</td>\n",
       "      <td>1.0</td>\n",
       "      <td>9.2</td>\n",
       "      <td>1</td>\n",
       "      <td>1.375</td>\n",
       "      <td>1.0</td>\n",
       "      <td>0</td>\n",
       "    </tr>\n",
       "    <tr>\n",
       "      <th>1</th>\n",
       "      <td>1</td>\n",
       "      <td>21.0</td>\n",
       "      <td>45.129412</td>\n",
       "      <td>1.0</td>\n",
       "      <td>8.8</td>\n",
       "      <td>1</td>\n",
       "      <td>1.500</td>\n",
       "      <td>1.0</td>\n",
       "      <td>0</td>\n",
       "    </tr>\n",
       "    <tr>\n",
       "      <th>2</th>\n",
       "      <td>1</td>\n",
       "      <td>21.0</td>\n",
       "      <td>45.129412</td>\n",
       "      <td>1.0</td>\n",
       "      <td>9.2</td>\n",
       "      <td>1</td>\n",
       "      <td>2.125</td>\n",
       "      <td>1.0</td>\n",
       "      <td>0</td>\n",
       "    </tr>\n",
       "  </tbody>\n",
       "</table>\n",
       "</div>"
      ],
      "text/plain": [
       "   Community   Age     Weight  Delivery phase   HB  IFA     BP  Residence  \\\n",
       "0          1  21.0  42.000000             1.0  9.2    1  1.375        1.0   \n",
       "1          1  21.0  45.129412             1.0  8.8    1  1.500        1.0   \n",
       "2          1  21.0  45.129412             1.0  9.2    1  2.125        1.0   \n",
       "\n",
       "   Result  \n",
       "0       0  \n",
       "1       0  \n",
       "2       0  "
      ]
     },
     "execution_count": 40,
     "metadata": {},
     "output_type": "execute_result"
    }
   ],
   "source": [
    "new_data=pd.concat([data,data2])\n",
    "#new_data=pd.concat([new_data,data2])\n",
    "new_data.head(3)"
   ]
  },
  {
   "cell_type": "code",
   "execution_count": 41,
   "metadata": {},
   "outputs": [
    {
     "data": {
      "text/html": [
       "<div>\n",
       "<style scoped>\n",
       "    .dataframe tbody tr th:only-of-type {\n",
       "        vertical-align: middle;\n",
       "    }\n",
       "\n",
       "    .dataframe tbody tr th {\n",
       "        vertical-align: top;\n",
       "    }\n",
       "\n",
       "    .dataframe thead th {\n",
       "        text-align: right;\n",
       "    }\n",
       "</style>\n",
       "<table border=\"1\" class=\"dataframe\">\n",
       "  <thead>\n",
       "    <tr style=\"text-align: right;\">\n",
       "      <th></th>\n",
       "      <th>Community</th>\n",
       "      <th>Age</th>\n",
       "      <th>Weight</th>\n",
       "      <th>Delivery phase</th>\n",
       "      <th>HB</th>\n",
       "      <th>IFA</th>\n",
       "      <th>BP</th>\n",
       "      <th>Residence</th>\n",
       "      <th>Result</th>\n",
       "    </tr>\n",
       "  </thead>\n",
       "  <tbody>\n",
       "    <tr>\n",
       "      <th>19</th>\n",
       "      <td>1</td>\n",
       "      <td>23.752809</td>\n",
       "      <td>45.129412</td>\n",
       "      <td>1.0</td>\n",
       "      <td>9.6</td>\n",
       "      <td>0</td>\n",
       "      <td>1.200000</td>\n",
       "      <td>1.0</td>\n",
       "      <td>0</td>\n",
       "    </tr>\n",
       "    <tr>\n",
       "      <th>81</th>\n",
       "      <td>3</td>\n",
       "      <td>23.000000</td>\n",
       "      <td>39.000000</td>\n",
       "      <td>1.0</td>\n",
       "      <td>9.0</td>\n",
       "      <td>0</td>\n",
       "      <td>1.725189</td>\n",
       "      <td>1.0</td>\n",
       "      <td>1</td>\n",
       "    </tr>\n",
       "    <tr>\n",
       "      <th>15</th>\n",
       "      <td>3</td>\n",
       "      <td>23.000000</td>\n",
       "      <td>39.000000</td>\n",
       "      <td>1.0</td>\n",
       "      <td>9.0</td>\n",
       "      <td>1</td>\n",
       "      <td>1.375000</td>\n",
       "      <td>1.0</td>\n",
       "      <td>0</td>\n",
       "    </tr>\n",
       "  </tbody>\n",
       "</table>\n",
       "</div>"
      ],
      "text/plain": [
       "    Community        Age     Weight  Delivery phase   HB  IFA        BP  \\\n",
       "19          1  23.752809  45.129412             1.0  9.6    0  1.200000   \n",
       "81          3  23.000000  39.000000             1.0  9.0    0  1.725189   \n",
       "15          3  23.000000  39.000000             1.0  9.0    1  1.375000   \n",
       "\n",
       "    Residence  Result  \n",
       "19        1.0       0  \n",
       "81        1.0       1  \n",
       "15        1.0       0  "
      ]
     },
     "execution_count": 41,
     "metadata": {},
     "output_type": "execute_result"
    }
   ],
   "source": [
    "new_data=new_data.sample(frac=1)\n",
    "new_data.head(3)"
   ]
  },
  {
   "cell_type": "code",
   "execution_count": 42,
   "metadata": {},
   "outputs": [
    {
     "data": {
      "text/plain": [
       "1    72\n",
       "0    48\n",
       "Name: Result, dtype: int64"
      ]
     },
     "execution_count": 42,
     "metadata": {},
     "output_type": "execute_result"
    }
   ],
   "source": [
    "new_data['Result'].value_counts()"
   ]
  },
  {
   "cell_type": "code",
   "execution_count": 43,
   "metadata": {},
   "outputs": [
    {
     "name": "stdout",
     "output_type": "stream",
     "text": [
      "epoch:0 ,accuracy:0.595 ,loss:1.292 ,lr:0.02487562189054727,\n",
      "epoch:100 ,accuracy:0.738 ,loss:0.602 ,lr:0.024874384358987117,\n",
      "epoch:200 ,accuracy:0.679 ,loss:0.583 ,lr:0.02487314695055218,\n",
      "epoch:300 ,accuracy:0.702 ,loss:0.574 ,lr:0.024871909665224096,\n",
      "epoch:400 ,accuracy:0.679 ,loss:0.570 ,lr:0.02487067250298448,\n",
      "epoch:500 ,accuracy:0.750 ,loss:0.555 ,lr:0.02486943546381497,\n",
      "epoch:600 ,accuracy:0.762 ,loss:0.543 ,lr:0.024868198547697205,\n",
      "epoch:700 ,accuracy:0.690 ,loss:0.554 ,lr:0.024866961754612824,\n",
      "epoch:800 ,accuracy:0.762 ,loss:0.538 ,lr:0.024865725084543464,\n",
      "epoch:900 ,accuracy:0.774 ,loss:0.532 ,lr:0.024864488537470787,\n",
      "epoch:1000 ,accuracy:0.738 ,loss:0.540 ,lr:0.02486325211337643,\n",
      "epoch:1100 ,accuracy:0.738 ,loss:0.549 ,lr:0.02486201581224206,\n",
      "epoch:1200 ,accuracy:0.738 ,loss:0.532 ,lr:0.024860779634049326,\n",
      "epoch:1300 ,accuracy:0.690 ,loss:0.564 ,lr:0.024859543578779897,\n",
      "epoch:1400 ,accuracy:0.702 ,loss:0.559 ,lr:0.02485830764641543,\n",
      "epoch:1500 ,accuracy:0.774 ,loss:0.512 ,lr:0.02485707183693761,\n",
      "epoch:1600 ,accuracy:0.762 ,loss:0.521 ,lr:0.024855836150328096,\n",
      "epoch:1700 ,accuracy:0.762 ,loss:0.486 ,lr:0.024854600586568576,\n",
      "epoch:1800 ,accuracy:0.774 ,loss:0.525 ,lr:0.02485336514564072,\n",
      "epoch:1900 ,accuracy:0.762 ,loss:0.529 ,lr:0.024852129827526222,\n",
      "epoch:2000 ,accuracy:0.762 ,loss:0.513 ,lr:0.02485089463220676,\n",
      "epoch:2100 ,accuracy:0.750 ,loss:0.519 ,lr:0.024849659559664034,\n",
      "epoch:2200 ,accuracy:0.786 ,loss:0.519 ,lr:0.024848424609879738,\n",
      "epoch:2300 ,accuracy:0.774 ,loss:0.499 ,lr:0.02484718978283556,\n",
      "epoch:2400 ,accuracy:0.786 ,loss:0.515 ,lr:0.02484595507851322,\n",
      "epoch:2500 ,accuracy:0.798 ,loss:0.520 ,lr:0.024844720496894408,\n",
      "epoch:2600 ,accuracy:0.786 ,loss:0.494 ,lr:0.024843486037960848,\n",
      "epoch:2700 ,accuracy:0.655 ,loss:0.681 ,lr:0.02484225170169424,\n",
      "epoch:2800 ,accuracy:0.702 ,loss:0.563 ,lr:0.024841017488076312,\n",
      "epoch:2900 ,accuracy:0.714 ,loss:0.538 ,lr:0.024839783397088776,\n",
      "epoch:3000 ,accuracy:0.702 ,loss:0.561 ,lr:0.024838549428713365,\n",
      "epoch:3100 ,accuracy:0.762 ,loss:0.505 ,lr:0.0248373155829318,\n",
      "epoch:3200 ,accuracy:0.774 ,loss:0.512 ,lr:0.024836081859725814,\n",
      "epoch:3300 ,accuracy:0.762 ,loss:0.486 ,lr:0.024834848259077138,\n",
      "epoch:3400 ,accuracy:0.762 ,loss:0.490 ,lr:0.02483361478096752,\n",
      "epoch:3500 ,accuracy:0.762 ,loss:0.489 ,lr:0.024832381425378695,\n",
      "epoch:3600 ,accuracy:0.738 ,loss:0.531 ,lr:0.024831148192292415,\n",
      "epoch:3700 ,accuracy:0.762 ,loss:0.487 ,lr:0.024829915081690423,\n",
      "epoch:3800 ,accuracy:0.738 ,loss:0.489 ,lr:0.024828682093554478,\n",
      "epoch:3900 ,accuracy:0.774 ,loss:0.486 ,lr:0.02482744922786633,\n",
      "epoch:4000 ,accuracy:0.750 ,loss:0.518 ,lr:0.02482621648460775,\n",
      "epoch:4100 ,accuracy:0.786 ,loss:0.495 ,lr:0.02482498386376049,\n",
      "epoch:4200 ,accuracy:0.762 ,loss:0.501 ,lr:0.024823751365306325,\n",
      "epoch:4300 ,accuracy:0.786 ,loss:0.492 ,lr:0.02482251898922703,\n",
      "epoch:4400 ,accuracy:0.750 ,loss:0.483 ,lr:0.024821286735504367,\n",
      "epoch:4500 ,accuracy:0.786 ,loss:0.442 ,lr:0.02482005460412013,\n",
      "epoch:4600 ,accuracy:0.750 ,loss:0.488 ,lr:0.024818822595056092,\n",
      "epoch:4700 ,accuracy:0.750 ,loss:0.458 ,lr:0.024817590708294042,\n",
      "epoch:4800 ,accuracy:0.679 ,loss:0.517 ,lr:0.024816358943815762,\n",
      "epoch:4900 ,accuracy:0.762 ,loss:0.422 ,lr:0.024815127301603058,\n",
      "epoch:5000 ,accuracy:0.810 ,loss:0.434 ,lr:0.024813895781637715,\n",
      "epoch:5100 ,accuracy:0.762 ,loss:0.417 ,lr:0.024812664383901548,\n",
      "epoch:5200 ,accuracy:0.726 ,loss:0.474 ,lr:0.02481143310837634,\n",
      "epoch:5300 ,accuracy:0.798 ,loss:0.421 ,lr:0.024810201955043916,\n",
      "epoch:5400 ,accuracy:0.798 ,loss:0.449 ,lr:0.02480897092388608,\n",
      "epoch:5500 ,accuracy:0.798 ,loss:0.406 ,lr:0.024807740014884647,\n",
      "epoch:5600 ,accuracy:0.798 ,loss:0.399 ,lr:0.024806509228021432,\n",
      "epoch:5700 ,accuracy:0.798 ,loss:0.400 ,lr:0.02480527856327827,\n",
      "epoch:5800 ,accuracy:0.821 ,loss:0.399 ,lr:0.02480404802063697,\n",
      "epoch:5900 ,accuracy:0.833 ,loss:0.434 ,lr:0.024802817600079373,\n",
      "epoch:6000 ,accuracy:0.810 ,loss:0.470 ,lr:0.024801587301587304,\n",
      "epoch:6100 ,accuracy:0.845 ,loss:0.432 ,lr:0.024800357125142607,\n",
      "epoch:6200 ,accuracy:0.821 ,loss:0.427 ,lr:0.024799127070727112,\n",
      "epoch:6300 ,accuracy:0.869 ,loss:0.409 ,lr:0.02479789713832267,\n",
      "epoch:6400 ,accuracy:0.833 ,loss:0.399 ,lr:0.02479666732791113,\n",
      "epoch:6500 ,accuracy:0.833 ,loss:0.417 ,lr:0.024795437639474338,\n",
      "epoch:6600 ,accuracy:0.833 ,loss:0.409 ,lr:0.02479420807299415,\n",
      "epoch:6700 ,accuracy:0.786 ,loss:0.480 ,lr:0.024792978628452422,\n",
      "epoch:6800 ,accuracy:0.833 ,loss:0.408 ,lr:0.024791749305831022,\n",
      "epoch:6900 ,accuracy:0.774 ,loss:0.456 ,lr:0.024790520105111805,\n",
      "epoch:7000 ,accuracy:0.845 ,loss:0.390 ,lr:0.024789291026276652,\n",
      "epoch:7100 ,accuracy:0.762 ,loss:0.456 ,lr:0.02478806206930742,\n",
      "epoch:7200 ,accuracy:0.833 ,loss:0.403 ,lr:0.024786833234186,\n",
      "epoch:7300 ,accuracy:0.833 ,loss:0.399 ,lr:0.024785604520894264,\n",
      "epoch:7400 ,accuracy:0.810 ,loss:0.379 ,lr:0.0247843759294141,\n",
      "epoch:7500 ,accuracy:0.810 ,loss:0.394 ,lr:0.024783147459727387,\n",
      "epoch:7600 ,accuracy:0.833 ,loss:0.374 ,lr:0.02478191911181602,\n",
      "epoch:7700 ,accuracy:0.845 ,loss:0.410 ,lr:0.024780690885661892,\n",
      "epoch:7800 ,accuracy:0.869 ,loss:0.378 ,lr:0.024779462781246906,\n",
      "epoch:7900 ,accuracy:0.798 ,loss:0.410 ,lr:0.024778234798552953,\n",
      "epoch:8000 ,accuracy:0.857 ,loss:0.387 ,lr:0.02477700693756195,\n",
      "epoch:8100 ,accuracy:0.869 ,loss:0.386 ,lr:0.024775779198255785,\n",
      "epoch:8200 ,accuracy:0.869 ,loss:0.372 ,lr:0.02477455158061639,\n",
      "epoch:8300 ,accuracy:0.810 ,loss:0.393 ,lr:0.024773324084625677,\n",
      "epoch:8400 ,accuracy:0.821 ,loss:0.393 ,lr:0.024772096710265555,\n",
      "epoch:8500 ,accuracy:0.869 ,loss:0.367 ,lr:0.024770869457517962,\n",
      "epoch:8600 ,accuracy:0.869 ,loss:0.374 ,lr:0.024769642326364805,\n",
      "epoch:8700 ,accuracy:0.869 ,loss:0.361 ,lr:0.024768415316788035,\n",
      "epoch:8800 ,accuracy:0.869 ,loss:0.376 ,lr:0.024767188428769567,\n",
      "epoch:8900 ,accuracy:0.810 ,loss:0.398 ,lr:0.02476596166229135,\n",
      "epoch:9000 ,accuracy:0.857 ,loss:0.379 ,lr:0.024764735017335313,\n",
      "epoch:9100 ,accuracy:0.845 ,loss:0.387 ,lr:0.024763508493883417,\n",
      "epoch:9200 ,accuracy:0.869 ,loss:0.357 ,lr:0.02476228209191759,\n",
      "epoch:9300 ,accuracy:0.821 ,loss:0.382 ,lr:0.0247610558114198,\n",
      "epoch:9400 ,accuracy:0.869 ,loss:0.357 ,lr:0.02475982965237199,\n",
      "epoch:9500 ,accuracy:0.798 ,loss:0.420 ,lr:0.024758603614756132,\n",
      "epoch:9600 ,accuracy:0.810 ,loss:0.395 ,lr:0.02475737769855417,\n",
      "epoch:9700 ,accuracy:0.893 ,loss:0.380 ,lr:0.024756151903748084,\n",
      "epoch:9800 ,accuracy:0.869 ,loss:0.359 ,lr:0.024754926230319833,\n",
      "epoch:9900 ,accuracy:0.869 ,loss:0.375 ,lr:0.024753700678251403,\n",
      "epoch:10000 ,accuracy:0.845 ,loss:0.416 ,lr:0.024752475247524754,\n",
      "epoch:10100 ,accuracy:0.857 ,loss:0.372 ,lr:0.024751249938121878,\n",
      "epoch:10200 ,accuracy:0.750 ,loss:0.447 ,lr:0.02475002475002475,\n",
      "epoch:10300 ,accuracy:0.881 ,loss:0.399 ,lr:0.02474879968321536,\n",
      "epoch:10400 ,accuracy:0.786 ,loss:0.395 ,lr:0.02474757473767571,\n",
      "epoch:10500 ,accuracy:0.893 ,loss:0.356 ,lr:0.024746349913387772,\n",
      "epoch:10600 ,accuracy:0.857 ,loss:0.363 ,lr:0.024745125210333566,\n",
      "epoch:10700 ,accuracy:0.833 ,loss:0.364 ,lr:0.024743900628495075,\n",
      "epoch:10800 ,accuracy:0.762 ,loss:0.442 ,lr:0.02474267616785432,\n",
      "epoch:10900 ,accuracy:0.845 ,loss:0.363 ,lr:0.02474145182839329,\n",
      "epoch:11000 ,accuracy:0.833 ,loss:0.365 ,lr:0.024740227610094017,\n"
     ]
    }
   ],
   "source": [
    "new_input=new_data.loc[:,['Community','Age', 'Weight', 'Delivery phase', 'HB', 'IFA', 'BP', 'Residence']]\n",
    "new_result=new_data['Result']\n",
    "input11,x_test11, result11, y_test11 = train_test_split(new_input, new_result, test_size=0.3, random_state=42)\n",
    "Hlayer11=ANN_layers(8,24)\n",
    "#Hlayer12=ANN_layers(16,8)\n",
    "Output_layer1=ANN_layers(24,2)\n",
    "act11=activation()\n",
    "#act12=activation()\n",
    "loss_activation1=Activation_softmax_LCCE()\n",
    "optimize1 = optimizer(l_rate=0.025,decay=5e-7)\n",
    "for epoch in range(11001):\n",
    "    Hlayer11.fpropogation(input11)\n",
    "    act11.fRelu(Hlayer11.output)\n",
    "    #Hlayer12.fpropogation(act11.output)\n",
    "    #act12.fRelu(Hlayer12.output)\n",
    "    Output_layer1.fpropogation(act11.output)\n",
    "    loss1 = loss_activation1.forward(Output_layer1.output,result11)\n",
    "    prediction1 = np.argmax(loss_activation1.output,axis=1)\n",
    "    if len(result11.shape)==2:\n",
    "        result11=np.argmax(result11,axis=1)\n",
    "    accuracy1= np.mean(prediction1==result11)\n",
    "    if not epoch %100:\n",
    "        print(f'epoch:{epoch} ,'+\n",
    "              f'accuracy:{accuracy1:.3f} ,'+\n",
    "              f'loss:{loss1:.3f} ,'+\n",
    "              f'lr:{optimize.curr_l_rate},')\n",
    "        \n",
    "    loss_activation1.backpass(loss_activation1.output,result11)\n",
    "    Output_layer1.Bpropogation(loss_activation1.dinputs)\n",
    "    act11.back(Output_layer1.dinputs)\n",
    "    #Hlayer12.Bpropogation(act12.dinputs)\n",
    "    #act11.back(Hlayer12.dinputs)\n",
    "    Hlayer11.Bpropogation(act11.dinputs)\n",
    "              \n",
    "    optimize.initial_update_param()\n",
    "    optimize.update_params(Hlayer11)\n",
    "    #optimize.update_params(Hlayer12)\n",
    "    optimize.update_params(Output_layer1)\n",
    "    optimize.post_update_params()"
   ]
  },
  {
   "cell_type": "code",
   "execution_count": 44,
   "metadata": {},
   "outputs": [
    {
     "name": "stdout",
     "output_type": "stream",
     "text": [
      "epoch:11000 ,accuracy:0.781 ,loss:0.695 ,lr:0.024740215368522826\n"
     ]
    }
   ],
   "source": [
    "#x_test=x_test11\n",
    "#y_test=y_test11\n",
    "Hlayer11.fpropogation(x_test)\n",
    "act11.fRelu(Hlayer11.output)\n",
    "#Hlayer12.fpropogation(act11.output)\n",
    "#act12.fRelu(Hlayer12.output)\n",
    "Output_layer1.fpropogation(act11.output)\n",
    "loss1 = loss_activation1.forward(Output_layer1.output,y_test)\n",
    "prediction1 = np.argmax(loss_activation1.output,axis=1)\n",
    "if len(y_test.shape)==2:\n",
    "    result11=np.argmax(y_test,axis=1)\n",
    "accuracy1= np.mean(prediction1==y_test)\n",
    "print(f'epoch:{epoch} ,'+f'accuracy:{accuracy1:.3f} ,'+\n",
    "       f'loss:{loss1:.3f} ,'+\n",
    "      f'lr:{optimize.curr_l_rate}')"
   ]
  },
  {
   "cell_type": "code",
   "execution_count": null,
   "metadata": {},
   "outputs": [],
   "source": []
  },
  {
   "cell_type": "code",
   "execution_count": null,
   "metadata": {},
   "outputs": [],
   "source": []
  }
 ],
 "metadata": {
  "kernelspec": {
   "display_name": "Python 3",
   "language": "python",
   "name": "python3"
  },
  "language_info": {
   "codemirror_mode": {
    "name": "ipython",
    "version": 3
   },
   "file_extension": ".py",
   "mimetype": "text/x-python",
   "name": "python",
   "nbconvert_exporter": "python",
   "pygments_lexer": "ipython3",
   "version": "3.7.6"
  }
 },
 "nbformat": 4,
 "nbformat_minor": 4
}
