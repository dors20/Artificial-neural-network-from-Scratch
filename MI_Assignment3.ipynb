{
 "cells": [
  {
   "cell_type": "code",
   "execution_count": 1,
   "metadata": {},
   "outputs": [],
   "source": [
    "import pandas as pd\n",
    "import numpy as np\n",
    "\n",
    "np.random.seed(0)"
   ]
  },
  {
   "cell_type": "code",
   "execution_count": 2,
   "metadata": {},
   "outputs": [],
   "source": [
    "data = pd.read_csv('LBW_Dataset.csv')"
   ]
  },
  {
   "cell_type": "code",
   "execution_count": 3,
   "metadata": {},
   "outputs": [],
   "source": [
    "data.head(5)"
   ]
  },
  {
   "cell_type": "code",
   "execution_count": 4,
   "metadata": {},
   "outputs": [],
   "source": [
    "data.info()"
   ]
  },
  {
   "cell_type": "code",
   "execution_count": 5,
   "metadata": {},
   "outputs": [],
   "source": [
    "data.isnull().sum()"
   ]
  },
  {
   "cell_type": "code",
   "execution_count": 6,
   "metadata": {},
   "outputs": [],
   "source": [
    "for col in data.columns:\n",
    "    print(\"{}:{}\".format(col,data[col].nunique()))"
   ]
  },
  {
   "cell_type": "code",
   "execution_count": 7,
   "metadata": {},
   "outputs": [],
   "source": [
    "data.describe()\n"
   ]
  },
  {
   "cell_type": "code",
   "execution_count": 8,
   "metadata": {},
   "outputs": [],
   "source": [
    "data['Community'].value_counts()\n",
    "#NO null values in community column"
   ]
  },
  {
   "cell_type": "code",
   "execution_count": 9,
   "metadata": {},
   "outputs": [
    {
     "data": {
      "text/plain": [
       "1.0    81\n",
       "2.0    13\n",
       "Name: Residence, dtype: int64"
      ]
     },
     "execution_count": 9,
     "metadata": {},
     "output_type": "execute_result"
    }
   ],
   "source": [
    "data['Residence'].value_counts()"
   ]
  },
  {
   "cell_type": "code",
   "execution_count": 10,
   "metadata": {},
   "outputs": [],
   "source": [
    "# FIll Age ,Weight ,HB and BP  Null values with mean\n",
    "# Delivery phase with 1 since the coulmn takes binary values\n",
    "# Education with 5\n",
    "#Residence with 1"
   ]
  },
  {
   "cell_type": "code",
   "execution_count": 11,
   "metadata": {},
   "outputs": [
    {
     "data": {
      "text/plain": [
       "Index(['Community', 'Age', 'Weight', 'Delivery phase', 'HB', 'IFA', 'BP',\n",
       "       'Education', 'Residence', 'Result'],\n",
       "      dtype='object')"
      ]
     },
     "execution_count": 11,
     "metadata": {},
     "output_type": "execute_result"
    }
   ],
   "source": [
    "data.columns"
   ]
  },
  {
   "cell_type": "code",
   "execution_count": 12,
   "metadata": {},
   "outputs": [
    {
     "name": "stdout",
     "output_type": "stream",
     "text": [
      "9.076623376623376\n"
     ]
    }
   ],
   "source": [
    "x=data['HB'].mean()\n",
    "print(x)"
   ]
  },
  {
   "cell_type": "code",
   "execution_count": 13,
   "metadata": {},
   "outputs": [],
   "source": [
    "values = { 'Age':data['Age'].mean(), 'Weight':data['Weight'].mean(), 'Delivery phase':1, 'HB':9.0, 'BP':data['BP'].mean(),\n",
    "       'Education':5, 'Residence':1}"
   ]
  },
  {
   "cell_type": "code",
   "execution_count": 14,
   "metadata": {},
   "outputs": [],
   "source": [
    "data = data.fillna(value=values)"
   ]
  },
  {
   "cell_type": "code",
   "execution_count": 15,
   "metadata": {},
   "outputs": [
    {
     "data": {
      "text/html": [
       "<div>\n",
       "<style scoped>\n",
       "    .dataframe tbody tr th:only-of-type {\n",
       "        vertical-align: middle;\n",
       "    }\n",
       "\n",
       "    .dataframe tbody tr th {\n",
       "        vertical-align: top;\n",
       "    }\n",
       "\n",
       "    .dataframe thead th {\n",
       "        text-align: right;\n",
       "    }\n",
       "</style>\n",
       "<table border=\"1\" class=\"dataframe\">\n",
       "  <thead>\n",
       "    <tr style=\"text-align: right;\">\n",
       "      <th></th>\n",
       "      <th>Community</th>\n",
       "      <th>Age</th>\n",
       "      <th>Weight</th>\n",
       "      <th>Delivery phase</th>\n",
       "      <th>HB</th>\n",
       "      <th>IFA</th>\n",
       "      <th>BP</th>\n",
       "      <th>Education</th>\n",
       "      <th>Residence</th>\n",
       "      <th>Result</th>\n",
       "    </tr>\n",
       "  </thead>\n",
       "  <tbody>\n",
       "    <tr>\n",
       "      <th>0</th>\n",
       "      <td>1</td>\n",
       "      <td>21.0</td>\n",
       "      <td>42.000000</td>\n",
       "      <td>1.0</td>\n",
       "      <td>9.2</td>\n",
       "      <td>1</td>\n",
       "      <td>1.375</td>\n",
       "      <td>5.0</td>\n",
       "      <td>1.0</td>\n",
       "      <td>0</td>\n",
       "    </tr>\n",
       "    <tr>\n",
       "      <th>1</th>\n",
       "      <td>1</td>\n",
       "      <td>21.0</td>\n",
       "      <td>45.129412</td>\n",
       "      <td>1.0</td>\n",
       "      <td>8.8</td>\n",
       "      <td>1</td>\n",
       "      <td>1.500</td>\n",
       "      <td>5.0</td>\n",
       "      <td>1.0</td>\n",
       "      <td>0</td>\n",
       "    </tr>\n",
       "    <tr>\n",
       "      <th>2</th>\n",
       "      <td>1</td>\n",
       "      <td>21.0</td>\n",
       "      <td>45.129412</td>\n",
       "      <td>1.0</td>\n",
       "      <td>9.2</td>\n",
       "      <td>1</td>\n",
       "      <td>2.125</td>\n",
       "      <td>5.0</td>\n",
       "      <td>1.0</td>\n",
       "      <td>0</td>\n",
       "    </tr>\n",
       "  </tbody>\n",
       "</table>\n",
       "</div>"
      ],
      "text/plain": [
       "   Community   Age     Weight  Delivery phase   HB  IFA     BP  Education  \\\n",
       "0          1  21.0  42.000000             1.0  9.2    1  1.375        5.0   \n",
       "1          1  21.0  45.129412             1.0  8.8    1  1.500        5.0   \n",
       "2          1  21.0  45.129412             1.0  9.2    1  2.125        5.0   \n",
       "\n",
       "   Residence  Result  \n",
       "0        1.0       0  \n",
       "1        1.0       0  \n",
       "2        1.0       0  "
      ]
     },
     "execution_count": 15,
     "metadata": {},
     "output_type": "execute_result"
    }
   ],
   "source": [
    "data.head(3)"
   ]
  },
  {
   "cell_type": "code",
   "execution_count": 16,
   "metadata": {},
   "outputs": [
    {
     "data": {
      "text/plain": [
       "Community         0\n",
       "Age               0\n",
       "Weight            0\n",
       "Delivery phase    0\n",
       "HB                0\n",
       "IFA               0\n",
       "BP                0\n",
       "Education         0\n",
       "Residence         0\n",
       "Result            0\n",
       "dtype: int64"
      ]
     },
     "execution_count": 16,
     "metadata": {},
     "output_type": "execute_result"
    }
   ],
   "source": [
    "data.isnull().sum()"
   ]
  },
  {
   "cell_type": "code",
   "execution_count": 17,
   "metadata": {},
   "outputs": [],
   "source": [
    "def sigmoid(x):\n",
    "    return 1/(1+np.exp(-x))\n",
    "#activation function"
   ]
  },
  {
   "cell_type": "code",
   "execution_count": 18,
   "metadata": {},
   "outputs": [
    {
     "data": {
      "text/plain": [
       "1    72\n",
       "0    24\n",
       "Name: Result, dtype: int64"
      ]
     },
     "execution_count": 18,
     "metadata": {},
     "output_type": "execute_result"
    }
   ],
   "source": [
    "data['Result'].value_counts()\n"
   ]
  },
  {
   "cell_type": "code",
   "execution_count": 19,
   "metadata": {},
   "outputs": [],
   "source": [
    "data=data.drop(columns='Education')\n"
   ]
  },
  {
   "cell_type": "code",
   "execution_count": 20,
   "metadata": {},
   "outputs": [],
   "source": [
    "#75% of the result column is 1 so the model might over fit "
   ]
  },
  {
   "cell_type": "code",
   "execution_count": 21,
   "metadata": {},
   "outputs": [],
   "source": [
    "#"
   ]
  },
  {
   "cell_type": "code",
   "execution_count": 22,
   "metadata": {},
   "outputs": [],
   "source": [
    "class ANN_layers:\n",
    "    def __init__(self,num_inputs ,num_cells):\n",
    "        self.weights = 0.1 * np.random.randn(num_inputs,num_cells) #in range[-1,1]\n",
    "        self.biases = np.zeros((1,num_cells))\n",
    "    def fpropogation(self , inputs):\n",
    "        self.inputs= inputs\n",
    "        self.output= np.dot(inputs ,self.weights)\n",
    "    def Bpropogation(self,dval):\n",
    "        self.dweights= np.dot(self.inputs.T,dval)\n",
    "        self.dbiases = np.sum(dval,axis=0,keepdims=True)\n",
    "        self.dinputs =np.dot(dval,self.weights.T)\n",
    "\n",
    "def confidenceTolist(x):\n",
    "    rows = x.shape[0]\n",
    "    cols = x.shape[1]\n",
    "    predict=[None]*rows\n",
    "    for i in range(0,rows):\n",
    "        if(x[i,0]>x[i,1]):\n",
    "            predict[i]=0\n",
    "        else:\n",
    "            predict[i]=1\n",
    "    return predict\n",
    "        \n",
    "        \n",
    "    \n",
    "        \n",
    "class activation:\n",
    "    def fRelu(self,x):\n",
    "        self.inputs=x\n",
    "        self.output = np.maximum(0,x)\n",
    "        #sigmoid\n",
    "        #self.inputs =x\n",
    "        #self.output = 1/(1+np.exp(-x))\n",
    "        #self.output = np.tanh(x) #tanh\n",
    "    def sigmoid(self,x):\n",
    "        self.inputs =x\n",
    "        self.output = 1/(1+np.exp(-x))\n",
    "    \n",
    "    def tanh(self,x):\n",
    "        self.inputs =x\n",
    "        self.output = np.tanh(x)\n",
    "        \n",
    "    def back(self,dval):\n",
    "        self.dinputs = dval.copy()\n",
    "        self.dinputs[self.inputs <=0] =0 \n",
    "        \n",
    "\n",
    "class act_softmax :       \n",
    "    def fsoftmax(self,inputs):\n",
    "        self.inputs = inputs\n",
    "        exp1 = np.exp(inputs - np.max(inputs, axis=1, keepdims=True))\n",
    "        prob = exp1 /np.sum(exp1 ,axis=1, keepdims=True)\n",
    "        self.output = prob\n",
    "        \n",
    "    def bsoftmax(self,dval):\n",
    "        self.dinputs = np.empty_like(dval)\n",
    "        \n",
    "        for i ,(single_o,single_dval) in enumerate(zip(self.output,dval)):\n",
    "            single_o = single_o.reshape(-1,1)\n",
    "            jacobian = np.diagflat(single_o)-np.dot(single_o,single_o.T)\n",
    "            self.dinputs[i] = np.dot(jacobian,single_dval)\n",
    "        \n",
    "class loss:\n",
    "    def cal(self,output,y):\n",
    "        sampleLosses = self.check(output,y)\n",
    "        data_loss= np.mean(sampleLosses)\n",
    "        return data_loss\n",
    "    \n",
    "class CCE(loss):\n",
    "    def check(self,y_pred,y_true):\n",
    "        x = len(y_pred)\n",
    "        y_pred_clipped = np.clip(y_pred ,1e-7,1 - 1e-7)\n",
    "        confidence = y_pred_clipped[range(x),y_true]\n",
    "        negLikely = -np.log(confidence)\n",
    "        return negLikely\n",
    "    \n",
    "    def backward(self,dval,y_true):\n",
    "        \n",
    "        x=len(dval)\n",
    "        label=len(dval[0])\n",
    "        if len(y_true.shape)==1:\n",
    "            y_true=np.eye(label)[y_true] #\n",
    "        self.dinputs =-y_true/dval\n",
    "        self.dinputs =self.dinputs/x\n"
   ]
  },
  {
   "cell_type": "code",
   "execution_count": 23,
   "metadata": {},
   "outputs": [],
   "source": [
    "class optimizer:\n",
    "    \n",
    "    def __init__(self , l_rate=1.,decay=0.,p=0.):\n",
    "        self.l_rate = l_rate\n",
    "        self.curr_l_rate=l_rate\n",
    "        self.decay = decay\n",
    "        self.iter =0\n",
    "        self.p =p\n",
    "        \n",
    "    def initial_update_param(self):\n",
    "        if self.decay:\n",
    "            self.curr_l_rate = self.l_rate *(1./(1+self.decay*self.iter))\n",
    "            \n",
    "    def update_params(self,layer):\n",
    "        if self.p:\n",
    "            if not hasattr(layer,'wieght_momentums'):\n",
    "                layer.weight_p = np.zeros_like(layer.weights)\n",
    "                layer.bias_p = np.zeros_like(layer.biases)\n",
    "            \n",
    "            w_updates= self.p*layer.weight_p - self_curr_l_rate*layer.dweights\n",
    "            layer.weight_p = w_updates\n",
    "            \n",
    "            b_updates= self.p*layer.bias_p - self_curr_l_rate*layer.dbiases\n",
    "            layer.bias_p = b_updates\n",
    "        \n",
    "        else:\n",
    "            w_updates =-self.curr_l_rate * layer.dweights\n",
    "            b_updates =-self.curr_l_rate * layer.dbiases\n",
    "            \n",
    "        layer.weights+=w_updates\n",
    "        layer.biases+=b_updates\n",
    "        \n",
    "    def post_update_params(self):\n",
    "        self.iter+=1"
   ]
  },
  {
   "cell_type": "code",
   "execution_count": 24,
   "metadata": {},
   "outputs": [],
   "source": [
    "class Activation_softmax_LCCE():\n",
    "    \n",
    "    def __init__(self):\n",
    "        self.activation=act_softmax()\n",
    "        self.loss=CCE()\n",
    "    \n",
    "    def forward(self,inputs,y_true):\n",
    "        self.activation.fsoftmax(inputs)\n",
    "        self.output=self.activation.output\n",
    "        \n",
    "        return self.loss.cal(self.output,y_true)\n",
    "        \n",
    "    def backpass(self,dval,y_true):\n",
    "        x=len(dval)\n",
    "        if len(y_true.shape)==2:\n",
    "            y_true = np.argmax(y_true,axis=1)\n",
    "        \n",
    "        self.dinputs =dval.copy()\n",
    "        self.dinputs[range(x),y_true]-=1\n",
    "        self.dinputs= self.dinputs/x"
   ]
  },
  {
   "cell_type": "raw",
   "metadata": {},
   "source": [
    "\"\"\"\n",
    "Hlayer1 =ANN_layers(8,8)\n",
    "Hlayer2 =ANN_layers(8,5)\n",
    "Output_layer=ANN_layers(5,2)\n",
    "input1= data.loc[:,['Community', 'Age', 'Weight', 'Delivery phase', 'HB', 'IFA', 'BP',\n",
    "        'Residence' ]]\n",
    "#Hlayer1.fpropogation(input1)\n",
    "#print(Hlayer1.output)\n",
    "print(Hlayer1.output.shape[0])\n",
    "a1=activation()\n",
    "a1.fRelu(Hlayer1.output)\n",
    "#print(a1.output)\n",
    "Hlayer2.fpropogation(a1.output)\n",
    "#print(Hlayer2.output)\n",
    "a2=activation()\n",
    "a2.fRelu(Hlayer2.output)\n",
    "Output_layer.fpropogation(a2.output)\n",
    "a3=act_softmax()\n",
    "a3.fsoftmax(Output_layer.output)\n",
    "print(a3.output[:10])\n",
    "#Categorical cross-entropy is explicitly used to compare\n",
    "#a “ground-truth” probability ( y or “ targets ”)\n",
    "result=data[\"Result\"].tolist()\n",
    "result1=data['Result']\n",
    "print(result)\n",
    "loss_calc=CCE()\n",
    "predict= confidenceTolist(a3.output)\n",
    "loss=loss_calc.cal(a3.output,result)\n",
    "print(loss)\n",
    "#print(len(result1.shape))\n",
    "\"\"\""
   ]
  },
  {
   "cell_type": "code",
   "execution_count": 25,
   "metadata": {},
   "outputs": [],
   "source": [
    "input2=data.loc[:,['Age', 'Weight', 'Delivery phase', 'HB', 'IFA', 'BP', 'Residence']] "
   ]
  },
  {
   "cell_type": "code",
   "execution_count": 26,
   "metadata": {},
   "outputs": [],
   "source": [
    "result=data['Result']"
   ]
  },
  {
   "cell_type": "code",
   "execution_count": 27,
   "metadata": {},
   "outputs": [],
   "source": [
    "from sklearn.model_selection import train_test_split"
   ]
  },
  {
   "cell_type": "code",
   "execution_count": 28,
   "metadata": {},
   "outputs": [],
   "source": [
    "input1,x_test, result1, y_test = train_test_split(input2, result, test_size=0.35, random_state=42)"
   ]
  },
  {
   "cell_type": "code",
   "execution_count": 29,
   "metadata": {},
   "outputs": [],
   "source": [
    "Hlayer1=ANN_layers(7,16)"
   ]
  },
  {
   "cell_type": "code",
   "execution_count": 30,
   "metadata": {},
   "outputs": [],
   "source": [
    "Hlayer2=ANN_layers(16,16)"
   ]
  },
  {
   "cell_type": "code",
   "execution_count": 31,
   "metadata": {},
   "outputs": [],
   "source": [
    "Output_layer=ANN_layers(16,2)"
   ]
  },
  {
   "cell_type": "code",
   "execution_count": 32,
   "metadata": {},
   "outputs": [],
   "source": [
    "act1=activation()"
   ]
  },
  {
   "cell_type": "code",
   "execution_count": 33,
   "metadata": {},
   "outputs": [],
   "source": [
    "act2=activation()\n"
   ]
  },
  {
   "cell_type": "code",
   "execution_count": 34,
   "metadata": {},
   "outputs": [],
   "source": [
    "loss_activation=Activation_softmax_LCCE()"
   ]
  },
  {
   "cell_type": "code",
   "execution_count": 35,
   "metadata": {},
   "outputs": [],
   "source": [
    "optimize = optimizer(l_rate=0.025,decay=5e-7)"
   ]
  },
  {
   "cell_type": "code",
   "execution_count": 36,
   "metadata": {},
   "outputs": [
    {
     "name": "stdout",
     "output_type": "stream",
     "text": [
      "epoch:0 ,accuracy:0.339 ,loss:0.7339040423240516 ,lr:0.025,\n",
      "epoch:100 ,accuracy:0.790 ,loss:0.4895713225451092 ,lr:0.02499876256125322,\n",
      "epoch:200 ,accuracy:0.790 ,loss:0.4811253595825717 ,lr:0.02499751274748163,\n",
      "epoch:300 ,accuracy:0.806 ,loss:0.4752756782995178 ,lr:0.024996263058672728,\n",
      "epoch:400 ,accuracy:0.806 ,loss:0.4693595196997094 ,lr:0.02499501349480779,\n",
      "epoch:500 ,accuracy:0.806 ,loss:0.4676429697003342 ,lr:0.024993764055868062,\n",
      "epoch:600 ,accuracy:0.806 ,loss:0.4590094708405892 ,lr:0.024992514741834823,\n",
      "epoch:700 ,accuracy:0.806 ,loss:0.45483294041106703 ,lr:0.024991265552689337,\n",
      "epoch:800 ,accuracy:0.806 ,loss:0.45197723769086795 ,lr:0.024990016488412876,\n",
      "epoch:900 ,accuracy:0.806 ,loss:0.4474648582545687 ,lr:0.024988767548986733,\n",
      "epoch:1000 ,accuracy:0.823 ,loss:0.4467685093118895 ,lr:0.024987518734392172,\n",
      "epoch:1100 ,accuracy:0.806 ,loss:0.45369690506086163 ,lr:0.024986270044610487,\n",
      "epoch:1200 ,accuracy:0.806 ,loss:0.4442178014321335 ,lr:0.024985021479622966,\n",
      "epoch:1300 ,accuracy:0.823 ,loss:0.4172322715233064 ,lr:0.024983773039410906,\n",
      "epoch:1400 ,accuracy:0.806 ,loss:0.44046797270628874 ,lr:0.024982524723955592,\n",
      "epoch:1500 ,accuracy:0.823 ,loss:0.39097251963652674 ,lr:0.02498127653323834,\n",
      "epoch:1600 ,accuracy:0.790 ,loss:0.4443865092804888 ,lr:0.024980028467240442,\n",
      "epoch:1700 ,accuracy:0.839 ,loss:0.3627556587321661 ,lr:0.02497878052594321,\n",
      "epoch:1800 ,accuracy:0.839 ,loss:0.3661896668031753 ,lr:0.024977532709327958,\n",
      "epoch:1900 ,accuracy:0.823 ,loss:0.39654257737990456 ,lr:0.024976285017376004,\n",
      "epoch:2000 ,accuracy:0.855 ,loss:0.35860584854330785 ,lr:0.024975037450068654,\n",
      "epoch:2100 ,accuracy:0.839 ,loss:0.4359565864773433 ,lr:0.02497379000738725,\n",
      "epoch:2200 ,accuracy:0.855 ,loss:0.3745497535957286 ,lr:0.0249725426893131,\n",
      "epoch:2300 ,accuracy:0.855 ,loss:0.3258258847468221 ,lr:0.02497129549582755,\n",
      "epoch:2400 ,accuracy:0.839 ,loss:0.3250121223627913 ,lr:0.02497004842691192,\n",
      "epoch:2500 ,accuracy:0.855 ,loss:0.3319429099059107 ,lr:0.02496880148254756,\n",
      "epoch:2600 ,accuracy:0.839 ,loss:0.34135439752422225 ,lr:0.024967554662715802,\n",
      "epoch:2700 ,accuracy:0.823 ,loss:0.39642609524243627 ,lr:0.024966307967398002,\n",
      "epoch:2800 ,accuracy:0.855 ,loss:0.3094682798394828 ,lr:0.02496506139657549,\n",
      "epoch:2900 ,accuracy:0.871 ,loss:0.32258559558778394 ,lr:0.024963814950229642,\n",
      "epoch:3000 ,accuracy:0.887 ,loss:0.30698251792474524 ,lr:0.024962568628341803,\n",
      "epoch:3100 ,accuracy:0.887 ,loss:0.29724604101440116 ,lr:0.02496132243089333,\n",
      "epoch:3200 ,accuracy:0.823 ,loss:0.3654927401250871 ,lr:0.024960076357865596,\n",
      "epoch:3300 ,accuracy:0.855 ,loss:0.3626833585983035 ,lr:0.02495883040923996,\n",
      "epoch:3400 ,accuracy:0.855 ,loss:0.3466794266850983 ,lr:0.024957584584997798,\n",
      "epoch:3500 ,accuracy:0.839 ,loss:0.3072329634867576 ,lr:0.024956338885120482,\n",
      "epoch:3600 ,accuracy:0.855 ,loss:0.3409770365701287 ,lr:0.024955093309589397,\n",
      "epoch:3700 ,accuracy:0.855 ,loss:0.3046096873804334 ,lr:0.024953847858385916,\n",
      "epoch:3800 ,accuracy:0.871 ,loss:0.2944030154642153 ,lr:0.024952602531491435,\n",
      "epoch:3900 ,accuracy:0.806 ,loss:0.4614700115477889 ,lr:0.024951357328887334,\n",
      "epoch:4000 ,accuracy:0.839 ,loss:0.3404319888759331 ,lr:0.024950112250555018,\n",
      "epoch:4100 ,accuracy:0.823 ,loss:0.3443049970679464 ,lr:0.02494886729647587,\n",
      "epoch:4200 ,accuracy:0.839 ,loss:0.318021137767777 ,lr:0.02494762246663131,\n",
      "epoch:4300 ,accuracy:0.855 ,loss:0.3156300094428097 ,lr:0.024946377761002725,\n",
      "epoch:4400 ,accuracy:0.887 ,loss:0.3058590715102292 ,lr:0.024945133179571536,\n",
      "epoch:4500 ,accuracy:0.855 ,loss:0.3079729747851452 ,lr:0.024943888722319146,\n",
      "epoch:4600 ,accuracy:0.839 ,loss:0.3807851784828752 ,lr:0.024942644389226977,\n",
      "epoch:4700 ,accuracy:0.855 ,loss:0.39033982418517593 ,lr:0.024941400180276442,\n",
      "epoch:4800 ,accuracy:0.855 ,loss:0.2872396495675991 ,lr:0.02494015609544897,\n",
      "epoch:4900 ,accuracy:0.839 ,loss:0.28359529157756297 ,lr:0.024938912134725988,\n",
      "epoch:5000 ,accuracy:0.839 ,loss:0.2803446881540225 ,lr:0.024937668298088925,\n",
      "epoch:5100 ,accuracy:0.887 ,loss:0.2790351631331091 ,lr:0.02493642458551922,\n",
      "epoch:5200 ,accuracy:0.871 ,loss:0.29823712443971606 ,lr:0.024935180996998305,\n",
      "epoch:5300 ,accuracy:0.855 ,loss:0.3570108338977844 ,lr:0.024933937532507625,\n",
      "epoch:5400 ,accuracy:0.887 ,loss:0.2659883584002588 ,lr:0.02493269419202862,\n",
      "epoch:5500 ,accuracy:0.887 ,loss:0.2647058043729874 ,lr:0.024931450975542748,\n",
      "epoch:5600 ,accuracy:0.823 ,loss:0.3271456427165101 ,lr:0.024930207883031453,\n",
      "epoch:5700 ,accuracy:0.887 ,loss:0.28995821079264966 ,lr:0.0249289649144762,\n",
      "epoch:5800 ,accuracy:0.903 ,loss:0.3033824116017471 ,lr:0.024927722069858445,\n",
      "epoch:5900 ,accuracy:0.903 ,loss:0.2663064504070246 ,lr:0.024926479349159657,\n",
      "epoch:6000 ,accuracy:0.887 ,loss:0.2676027914062361 ,lr:0.02492523675236129,\n",
      "epoch:6100 ,accuracy:0.871 ,loss:0.32026007866369377 ,lr:0.024923994279444837,\n",
      "epoch:6200 ,accuracy:0.887 ,loss:0.276291979827964 ,lr:0.024922751930391753,\n",
      "epoch:6300 ,accuracy:0.871 ,loss:0.3050569728425682 ,lr:0.024921509705183528,\n",
      "epoch:6400 ,accuracy:0.887 ,loss:0.28441042393851784 ,lr:0.024920267603801637,\n",
      "epoch:6500 ,accuracy:0.887 ,loss:0.2616028156401542 ,lr:0.024919025626227578,\n",
      "epoch:6600 ,accuracy:0.871 ,loss:0.2827029627569631 ,lr:0.024917783772442827,\n",
      "epoch:6700 ,accuracy:0.839 ,loss:0.3315849888095416 ,lr:0.02491654204242889,\n",
      "epoch:6800 ,accuracy:0.871 ,loss:0.31013135785517826 ,lr:0.02491530043616725,\n",
      "epoch:6900 ,accuracy:0.871 ,loss:0.2866744491509144 ,lr:0.02491405895363942,\n",
      "epoch:7000 ,accuracy:0.887 ,loss:0.2835940553128253 ,lr:0.024912817594826903,\n",
      "epoch:7100 ,accuracy:0.871 ,loss:0.27554520623325 ,lr:0.024911576359711203,\n",
      "epoch:7200 ,accuracy:0.887 ,loss:0.2764553950851048 ,lr:0.024910335248273838,\n",
      "epoch:7300 ,accuracy:0.887 ,loss:0.27559558042865534 ,lr:0.02490909426049632,\n",
      "epoch:7400 ,accuracy:0.871 ,loss:0.2654484000959856 ,lr:0.024907853396360168,\n",
      "epoch:7500 ,accuracy:0.903 ,loss:0.2704786465670444 ,lr:0.0249066126558469,\n",
      "epoch:7600 ,accuracy:0.871 ,loss:0.2883591563999737 ,lr:0.024905372038938056,\n",
      "epoch:7700 ,accuracy:0.823 ,loss:0.4237383556034575 ,lr:0.024904131545615153,\n",
      "epoch:7800 ,accuracy:0.887 ,loss:0.25941972207301495 ,lr:0.02490289117585974,\n",
      "epoch:7900 ,accuracy:0.903 ,loss:0.2590834971814275 ,lr:0.024901650929653334,\n",
      "epoch:8000 ,accuracy:0.871 ,loss:0.306795692594006 ,lr:0.024900410806977497,\n",
      "epoch:8100 ,accuracy:0.871 ,loss:0.2926005046571784 ,lr:0.02489917080781376,\n",
      "epoch:8200 ,accuracy:0.871 ,loss:0.28811268303066584 ,lr:0.02489793093214368,\n",
      "epoch:8300 ,accuracy:0.871 ,loss:0.2605227278614731 ,lr:0.024896691179948804,\n",
      "epoch:8400 ,accuracy:0.887 ,loss:0.24799574078928874 ,lr:0.024895451551210694,\n",
      "epoch:8500 ,accuracy:0.903 ,loss:0.25159761752339366 ,lr:0.024894212045910902,\n",
      "epoch:8600 ,accuracy:0.887 ,loss:0.2592391714091778 ,lr:0.024892972664031003,\n",
      "epoch:8700 ,accuracy:0.823 ,loss:0.34099767803293585 ,lr:0.02489173340555255,\n",
      "epoch:8800 ,accuracy:0.855 ,loss:0.28528623652747365 ,lr:0.024890494270457128,\n",
      "epoch:8900 ,accuracy:0.855 ,loss:0.2834662046155685 ,lr:0.0248892552587263,\n",
      "epoch:9000 ,accuracy:0.887 ,loss:0.28679497001402054 ,lr:0.024888016370341645,\n",
      "epoch:9100 ,accuracy:0.903 ,loss:0.2877192556823639 ,lr:0.02488677760528476,\n",
      "epoch:9200 ,accuracy:0.871 ,loss:0.28909411180585 ,lr:0.024885538963537207,\n",
      "epoch:9300 ,accuracy:0.871 ,loss:0.31057704603620123 ,lr:0.0248843004450806,\n",
      "epoch:9400 ,accuracy:0.871 ,loss:0.2792407740910482 ,lr:0.02488306204989651,\n",
      "epoch:9500 ,accuracy:0.887 ,loss:0.30092262541904075 ,lr:0.02488182377796655,\n",
      "epoch:9600 ,accuracy:0.855 ,loss:0.2886220682783499 ,lr:0.024880585629272308,\n",
      "epoch:9700 ,accuracy:0.855 ,loss:0.279518597988121 ,lr:0.0248793476037954,\n",
      "epoch:9800 ,accuracy:0.855 ,loss:0.2798057098752834 ,lr:0.024878109701517416,\n",
      "epoch:9900 ,accuracy:0.855 ,loss:0.29244734545438444 ,lr:0.024876871922419982,\n",
      "epoch:10000 ,accuracy:0.855 ,loss:0.278241300966687 ,lr:0.02487563426648471,\n"
     ]
    }
   ],
   "source": [
    "for epoch in range(10001):\n",
    "    Hlayer1.fpropogation(input1)\n",
    "    act1.fRelu(Hlayer1.output)\n",
    "    Hlayer2.fpropogation(act1.output)\n",
    "    act2.fRelu(Hlayer2.output)\n",
    "    Output_layer.fpropogation(act2.output)\n",
    "    loss = loss_activation.forward(Output_layer.output,result1)\n",
    "    prediction = np.argmax(loss_activation.output,axis=1)\n",
    "    if len(result1.shape)==2:\n",
    "        result1=np.argmax(result1,axis=1)\n",
    "    accuracy= np.mean(prediction==result1)\n",
    "    if not epoch %100:\n",
    "        print(f'epoch:{epoch} ,'+\n",
    "              f'accuracy:{accuracy:.3f} ,'+\n",
    "              f'loss:{loss} ,'+\n",
    "              f'lr:{optimize.curr_l_rate},')\n",
    "    loss_activation.backpass(loss_activation.output,result1)\n",
    "    Output_layer.Bpropogation(loss_activation.dinputs)\n",
    "    act2.back(Output_layer.dinputs)\n",
    "    Hlayer2.Bpropogation(act2.dinputs)\n",
    "    act1.back(Hlayer2.dinputs)\n",
    "    Hlayer1.Bpropogation(act1.dinputs)\n",
    "              \n",
    "    optimize.initial_update_param()\n",
    "    optimize.update_params(Hlayer1)\n",
    "    optimize.update_params(Hlayer2)\n",
    "    optimize.update_params(Output_layer)\n",
    "    optimize.post_update_params()"
   ]
  },
  {
   "cell_type": "code",
   "execution_count": 37,
   "metadata": {},
   "outputs": [
    {
     "name": "stdout",
     "output_type": "stream",
     "text": [
      "epoch:10000 ,accuracy:0.765 ,lr:0.02487562189054727,\n"
     ]
    }
   ],
   "source": [
    "Hlayer1.fpropogation(x_test)\n",
    "act1.fRelu(Hlayer1.output)\n",
    "Hlayer2.fpropogation(act1.output)\n",
    "act2.fRelu(Hlayer2.output)\n",
    "Output_layer.fpropogation(act2.output)\n",
    "loss = loss_activation.forward(Output_layer.output,y_test)\n",
    "prediction = np.argmax(loss_activation.output,axis=1)\n",
    "if len(y_test.shape)==2:\n",
    "    result1=np.argmax(y_test,axis=1)\n",
    "accuracy= np.mean(prediction==y_test)\n",
    "print(f'epoch:{epoch} ,'+f'accuracy:{accuracy:.3f} ,'+\n",
    "      f'lr:{optimize.curr_l_rate},')"
   ]
  },
  {
   "cell_type": "code",
   "execution_count": 38,
   "metadata": {},
   "outputs": [],
   "source": [
    "#since dataset is biased towards 1 we will try SMOTE approach"
   ]
  },
  {
   "cell_type": "code",
   "execution_count": 39,
   "metadata": {},
   "outputs": [
    {
     "data": {
      "text/html": [
       "<div>\n",
       "<style scoped>\n",
       "    .dataframe tbody tr th:only-of-type {\n",
       "        vertical-align: middle;\n",
       "    }\n",
       "\n",
       "    .dataframe tbody tr th {\n",
       "        vertical-align: top;\n",
       "    }\n",
       "\n",
       "    .dataframe thead th {\n",
       "        text-align: right;\n",
       "    }\n",
       "</style>\n",
       "<table border=\"1\" class=\"dataframe\">\n",
       "  <thead>\n",
       "    <tr style=\"text-align: right;\">\n",
       "      <th></th>\n",
       "      <th>Community</th>\n",
       "      <th>Age</th>\n",
       "      <th>Weight</th>\n",
       "      <th>Delivery phase</th>\n",
       "      <th>HB</th>\n",
       "      <th>IFA</th>\n",
       "      <th>BP</th>\n",
       "      <th>Residence</th>\n",
       "      <th>Result</th>\n",
       "    </tr>\n",
       "  </thead>\n",
       "  <tbody>\n",
       "    <tr>\n",
       "      <th>0</th>\n",
       "      <td>1</td>\n",
       "      <td>21.0</td>\n",
       "      <td>42.000000</td>\n",
       "      <td>1.0</td>\n",
       "      <td>9.2</td>\n",
       "      <td>1</td>\n",
       "      <td>1.375</td>\n",
       "      <td>1.0</td>\n",
       "      <td>0</td>\n",
       "    </tr>\n",
       "    <tr>\n",
       "      <th>1</th>\n",
       "      <td>1</td>\n",
       "      <td>21.0</td>\n",
       "      <td>45.129412</td>\n",
       "      <td>1.0</td>\n",
       "      <td>8.8</td>\n",
       "      <td>1</td>\n",
       "      <td>1.500</td>\n",
       "      <td>1.0</td>\n",
       "      <td>0</td>\n",
       "    </tr>\n",
       "    <tr>\n",
       "      <th>2</th>\n",
       "      <td>1</td>\n",
       "      <td>21.0</td>\n",
       "      <td>45.129412</td>\n",
       "      <td>1.0</td>\n",
       "      <td>9.2</td>\n",
       "      <td>1</td>\n",
       "      <td>2.125</td>\n",
       "      <td>1.0</td>\n",
       "      <td>0</td>\n",
       "    </tr>\n",
       "  </tbody>\n",
       "</table>\n",
       "</div>"
      ],
      "text/plain": [
       "   Community   Age     Weight  Delivery phase   HB  IFA     BP  Residence  \\\n",
       "0          1  21.0  42.000000             1.0  9.2    1  1.375        1.0   \n",
       "1          1  21.0  45.129412             1.0  8.8    1  1.500        1.0   \n",
       "2          1  21.0  45.129412             1.0  9.2    1  2.125        1.0   \n",
       "\n",
       "   Result  \n",
       "0       0  \n",
       "1       0  \n",
       "2       0  "
      ]
     },
     "execution_count": 39,
     "metadata": {},
     "output_type": "execute_result"
    }
   ],
   "source": [
    "data2=data[(data['Result']==0)]\n",
    "data2.head(3)"
   ]
  },
  {
   "cell_type": "code",
   "execution_count": 40,
   "metadata": {},
   "outputs": [
    {
     "data": {
      "text/html": [
       "<div>\n",
       "<style scoped>\n",
       "    .dataframe tbody tr th:only-of-type {\n",
       "        vertical-align: middle;\n",
       "    }\n",
       "\n",
       "    .dataframe tbody tr th {\n",
       "        vertical-align: top;\n",
       "    }\n",
       "\n",
       "    .dataframe thead th {\n",
       "        text-align: right;\n",
       "    }\n",
       "</style>\n",
       "<table border=\"1\" class=\"dataframe\">\n",
       "  <thead>\n",
       "    <tr style=\"text-align: right;\">\n",
       "      <th></th>\n",
       "      <th>Community</th>\n",
       "      <th>Age</th>\n",
       "      <th>Weight</th>\n",
       "      <th>Delivery phase</th>\n",
       "      <th>HB</th>\n",
       "      <th>IFA</th>\n",
       "      <th>BP</th>\n",
       "      <th>Residence</th>\n",
       "      <th>Result</th>\n",
       "    </tr>\n",
       "  </thead>\n",
       "  <tbody>\n",
       "    <tr>\n",
       "      <th>0</th>\n",
       "      <td>1</td>\n",
       "      <td>21.0</td>\n",
       "      <td>42.000000</td>\n",
       "      <td>1.0</td>\n",
       "      <td>9.2</td>\n",
       "      <td>1</td>\n",
       "      <td>1.375</td>\n",
       "      <td>1.0</td>\n",
       "      <td>0</td>\n",
       "    </tr>\n",
       "    <tr>\n",
       "      <th>1</th>\n",
       "      <td>1</td>\n",
       "      <td>21.0</td>\n",
       "      <td>45.129412</td>\n",
       "      <td>1.0</td>\n",
       "      <td>8.8</td>\n",
       "      <td>1</td>\n",
       "      <td>1.500</td>\n",
       "      <td>1.0</td>\n",
       "      <td>0</td>\n",
       "    </tr>\n",
       "    <tr>\n",
       "      <th>2</th>\n",
       "      <td>1</td>\n",
       "      <td>21.0</td>\n",
       "      <td>45.129412</td>\n",
       "      <td>1.0</td>\n",
       "      <td>9.2</td>\n",
       "      <td>1</td>\n",
       "      <td>2.125</td>\n",
       "      <td>1.0</td>\n",
       "      <td>0</td>\n",
       "    </tr>\n",
       "  </tbody>\n",
       "</table>\n",
       "</div>"
      ],
      "text/plain": [
       "   Community   Age     Weight  Delivery phase   HB  IFA     BP  Residence  \\\n",
       "0          1  21.0  42.000000             1.0  9.2    1  1.375        1.0   \n",
       "1          1  21.0  45.129412             1.0  8.8    1  1.500        1.0   \n",
       "2          1  21.0  45.129412             1.0  9.2    1  2.125        1.0   \n",
       "\n",
       "   Result  \n",
       "0       0  \n",
       "1       0  \n",
       "2       0  "
      ]
     },
     "execution_count": 40,
     "metadata": {},
     "output_type": "execute_result"
    }
   ],
   "source": [
    "new_data=pd.concat([data,data2])\n",
    "#new_data=pd.concat([new_data,data2])\n",
    "new_data.head(3)"
   ]
  },
  {
   "cell_type": "code",
   "execution_count": 41,
   "metadata": {},
   "outputs": [
    {
     "data": {
      "text/html": [
       "<div>\n",
       "<style scoped>\n",
       "    .dataframe tbody tr th:only-of-type {\n",
       "        vertical-align: middle;\n",
       "    }\n",
       "\n",
       "    .dataframe tbody tr th {\n",
       "        vertical-align: top;\n",
       "    }\n",
       "\n",
       "    .dataframe thead th {\n",
       "        text-align: right;\n",
       "    }\n",
       "</style>\n",
       "<table border=\"1\" class=\"dataframe\">\n",
       "  <thead>\n",
       "    <tr style=\"text-align: right;\">\n",
       "      <th></th>\n",
       "      <th>Community</th>\n",
       "      <th>Age</th>\n",
       "      <th>Weight</th>\n",
       "      <th>Delivery phase</th>\n",
       "      <th>HB</th>\n",
       "      <th>IFA</th>\n",
       "      <th>BP</th>\n",
       "      <th>Residence</th>\n",
       "      <th>Result</th>\n",
       "    </tr>\n",
       "  </thead>\n",
       "  <tbody>\n",
       "    <tr>\n",
       "      <th>61</th>\n",
       "      <td>1</td>\n",
       "      <td>25.0</td>\n",
       "      <td>41.0</td>\n",
       "      <td>1.0</td>\n",
       "      <td>9.1</td>\n",
       "      <td>0</td>\n",
       "      <td>1.375000</td>\n",
       "      <td>1.0</td>\n",
       "      <td>1</td>\n",
       "    </tr>\n",
       "    <tr>\n",
       "      <th>60</th>\n",
       "      <td>1</td>\n",
       "      <td>21.0</td>\n",
       "      <td>40.0</td>\n",
       "      <td>1.0</td>\n",
       "      <td>7.9</td>\n",
       "      <td>0</td>\n",
       "      <td>1.666667</td>\n",
       "      <td>1.0</td>\n",
       "      <td>1</td>\n",
       "    </tr>\n",
       "    <tr>\n",
       "      <th>84</th>\n",
       "      <td>1</td>\n",
       "      <td>26.0</td>\n",
       "      <td>44.0</td>\n",
       "      <td>1.0</td>\n",
       "      <td>9.0</td>\n",
       "      <td>0</td>\n",
       "      <td>1.725189</td>\n",
       "      <td>1.0</td>\n",
       "      <td>1</td>\n",
       "    </tr>\n",
       "  </tbody>\n",
       "</table>\n",
       "</div>"
      ],
      "text/plain": [
       "    Community   Age  Weight  Delivery phase   HB  IFA        BP  Residence  \\\n",
       "61          1  25.0    41.0             1.0  9.1    0  1.375000        1.0   \n",
       "60          1  21.0    40.0             1.0  7.9    0  1.666667        1.0   \n",
       "84          1  26.0    44.0             1.0  9.0    0  1.725189        1.0   \n",
       "\n",
       "    Result  \n",
       "61       1  \n",
       "60       1  \n",
       "84       1  "
      ]
     },
     "execution_count": 41,
     "metadata": {},
     "output_type": "execute_result"
    }
   ],
   "source": [
    "new_data=new_data.sample(frac=1)\n",
    "new_data.head(3)"
   ]
  },
  {
   "cell_type": "code",
   "execution_count": 42,
   "metadata": {},
   "outputs": [
    {
     "data": {
      "text/plain": [
       "1    72\n",
       "0    48\n",
       "Name: Result, dtype: int64"
      ]
     },
     "execution_count": 42,
     "metadata": {},
     "output_type": "execute_result"
    }
   ],
   "source": [
    "new_data['Result'].value_counts()"
   ]
  },
  {
   "cell_type": "code",
   "execution_count": 43,
   "metadata": {},
   "outputs": [
    {
     "name": "stdout",
     "output_type": "stream",
     "text": [
      "epoch:0 ,accuracy:0.410 ,loss:2.023 ,lr:0.02487562189054727,\n",
      "epoch:100 ,accuracy:0.679 ,loss:0.593 ,lr:0.024874384358987117,\n",
      "epoch:200 ,accuracy:0.718 ,loss:0.593 ,lr:0.02487314695055218,\n",
      "epoch:300 ,accuracy:0.782 ,loss:0.571 ,lr:0.024871909665224096,\n",
      "epoch:400 ,accuracy:0.744 ,loss:0.552 ,lr:0.02487067250298448,\n",
      "epoch:500 ,accuracy:0.756 ,loss:0.561 ,lr:0.02486943546381497,\n",
      "epoch:600 ,accuracy:0.756 ,loss:0.538 ,lr:0.024868198547697205,\n",
      "epoch:700 ,accuracy:0.744 ,loss:0.541 ,lr:0.024866961754612824,\n",
      "epoch:800 ,accuracy:0.731 ,loss:0.561 ,lr:0.024865725084543464,\n",
      "epoch:900 ,accuracy:0.744 ,loss:0.521 ,lr:0.024864488537470787,\n",
      "epoch:1000 ,accuracy:0.756 ,loss:0.541 ,lr:0.02486325211337643,\n",
      "epoch:1100 ,accuracy:0.756 ,loss:0.533 ,lr:0.02486201581224206,\n",
      "epoch:1200 ,accuracy:0.795 ,loss:0.507 ,lr:0.024860779634049326,\n",
      "epoch:1300 ,accuracy:0.769 ,loss:0.517 ,lr:0.024859543578779897,\n",
      "epoch:1400 ,accuracy:0.756 ,loss:0.513 ,lr:0.02485830764641543,\n",
      "epoch:1500 ,accuracy:0.808 ,loss:0.497 ,lr:0.02485707183693761,\n",
      "epoch:1600 ,accuracy:0.769 ,loss:0.508 ,lr:0.024855836150328096,\n",
      "epoch:1700 ,accuracy:0.667 ,loss:0.537 ,lr:0.024854600586568576,\n",
      "epoch:1800 ,accuracy:0.756 ,loss:0.495 ,lr:0.02485336514564072,\n",
      "epoch:1900 ,accuracy:0.782 ,loss:0.488 ,lr:0.024852129827526222,\n",
      "epoch:2000 ,accuracy:0.795 ,loss:0.469 ,lr:0.02485089463220676,\n",
      "epoch:2100 ,accuracy:0.782 ,loss:0.489 ,lr:0.024849659559664034,\n",
      "epoch:2200 ,accuracy:0.756 ,loss:0.510 ,lr:0.024848424609879738,\n",
      "epoch:2300 ,accuracy:0.679 ,loss:0.540 ,lr:0.02484718978283556,\n",
      "epoch:2400 ,accuracy:0.795 ,loss:0.469 ,lr:0.02484595507851322,\n",
      "epoch:2500 ,accuracy:0.782 ,loss:0.477 ,lr:0.024844720496894408,\n",
      "epoch:2600 ,accuracy:0.769 ,loss:0.486 ,lr:0.024843486037960848,\n",
      "epoch:2700 ,accuracy:0.782 ,loss:0.487 ,lr:0.02484225170169424,\n",
      "epoch:2800 ,accuracy:0.769 ,loss:0.491 ,lr:0.024841017488076312,\n",
      "epoch:2900 ,accuracy:0.756 ,loss:0.508 ,lr:0.024839783397088776,\n",
      "epoch:3000 ,accuracy:0.782 ,loss:0.480 ,lr:0.024838549428713365,\n",
      "epoch:3100 ,accuracy:0.769 ,loss:0.489 ,lr:0.0248373155829318,\n",
      "epoch:3200 ,accuracy:0.795 ,loss:0.462 ,lr:0.024836081859725814,\n",
      "epoch:3300 ,accuracy:0.795 ,loss:0.453 ,lr:0.024834848259077138,\n",
      "epoch:3400 ,accuracy:0.808 ,loss:0.444 ,lr:0.02483361478096752,\n",
      "epoch:3500 ,accuracy:0.769 ,loss:0.453 ,lr:0.024832381425378695,\n",
      "epoch:3600 ,accuracy:0.782 ,loss:0.470 ,lr:0.024831148192292415,\n",
      "epoch:3700 ,accuracy:0.756 ,loss:0.461 ,lr:0.024829915081690423,\n",
      "epoch:3800 ,accuracy:0.795 ,loss:0.444 ,lr:0.024828682093554478,\n",
      "epoch:3900 ,accuracy:0.795 ,loss:0.440 ,lr:0.02482744922786633,\n",
      "epoch:4000 ,accuracy:0.782 ,loss:0.456 ,lr:0.02482621648460775,\n",
      "epoch:4100 ,accuracy:0.782 ,loss:0.447 ,lr:0.02482498386376049,\n",
      "epoch:4200 ,accuracy:0.795 ,loss:0.455 ,lr:0.024823751365306325,\n",
      "epoch:4300 ,accuracy:0.795 ,loss:0.438 ,lr:0.02482251898922703,\n",
      "epoch:4400 ,accuracy:0.795 ,loss:0.445 ,lr:0.024821286735504367,\n",
      "epoch:4500 ,accuracy:0.769 ,loss:0.443 ,lr:0.02482005460412013,\n",
      "epoch:4600 ,accuracy:0.795 ,loss:0.446 ,lr:0.024818822595056092,\n",
      "epoch:4700 ,accuracy:0.846 ,loss:0.425 ,lr:0.024817590708294042,\n",
      "epoch:4800 ,accuracy:0.782 ,loss:0.437 ,lr:0.024816358943815762,\n",
      "epoch:4900 ,accuracy:0.833 ,loss:0.424 ,lr:0.024815127301603058,\n",
      "epoch:5000 ,accuracy:0.782 ,loss:0.449 ,lr:0.024813895781637715,\n",
      "epoch:5100 ,accuracy:0.769 ,loss:0.457 ,lr:0.024812664383901548,\n",
      "epoch:5200 ,accuracy:0.769 ,loss:0.454 ,lr:0.02481143310837634,\n",
      "epoch:5300 ,accuracy:0.795 ,loss:0.438 ,lr:0.024810201955043916,\n",
      "epoch:5400 ,accuracy:0.782 ,loss:0.438 ,lr:0.02480897092388608,\n",
      "epoch:5500 ,accuracy:0.782 ,loss:0.449 ,lr:0.024807740014884647,\n",
      "epoch:5600 ,accuracy:0.769 ,loss:0.460 ,lr:0.024806509228021432,\n",
      "epoch:5700 ,accuracy:0.769 ,loss:0.452 ,lr:0.02480527856327827,\n",
      "epoch:5800 ,accuracy:0.782 ,loss:0.442 ,lr:0.02480404802063697,\n",
      "epoch:5900 ,accuracy:0.846 ,loss:0.417 ,lr:0.024802817600079373,\n",
      "epoch:6000 ,accuracy:0.769 ,loss:0.449 ,lr:0.024801587301587304,\n",
      "epoch:6100 ,accuracy:0.782 ,loss:0.445 ,lr:0.024800357125142607,\n",
      "epoch:6200 ,accuracy:0.769 ,loss:0.456 ,lr:0.024799127070727112,\n",
      "epoch:6300 ,accuracy:0.795 ,loss:0.445 ,lr:0.02479789713832267,\n",
      "epoch:6400 ,accuracy:0.795 ,loss:0.441 ,lr:0.02479666732791113,\n",
      "epoch:6500 ,accuracy:0.821 ,loss:0.415 ,lr:0.024795437639474338,\n",
      "epoch:6600 ,accuracy:0.808 ,loss:0.425 ,lr:0.02479420807299415,\n",
      "epoch:6700 ,accuracy:0.782 ,loss:0.452 ,lr:0.024792978628452422,\n",
      "epoch:6800 ,accuracy:0.795 ,loss:0.425 ,lr:0.024791749305831022,\n",
      "epoch:6900 ,accuracy:0.769 ,loss:0.461 ,lr:0.024790520105111805,\n",
      "epoch:7000 ,accuracy:0.795 ,loss:0.435 ,lr:0.024789291026276652,\n",
      "epoch:7100 ,accuracy:0.769 ,loss:0.462 ,lr:0.02478806206930742,\n",
      "epoch:7200 ,accuracy:0.782 ,loss:0.448 ,lr:0.024786833234186,\n",
      "epoch:7300 ,accuracy:0.782 ,loss:0.437 ,lr:0.024785604520894264,\n",
      "epoch:7400 ,accuracy:0.782 ,loss:0.431 ,lr:0.0247843759294141,\n",
      "epoch:7500 ,accuracy:0.795 ,loss:0.438 ,lr:0.024783147459727387,\n",
      "epoch:7600 ,accuracy:0.795 ,loss:0.440 ,lr:0.02478191911181602,\n",
      "epoch:7700 ,accuracy:0.795 ,loss:0.436 ,lr:0.024780690885661892,\n",
      "epoch:7800 ,accuracy:0.821 ,loss:0.430 ,lr:0.024779462781246906,\n",
      "epoch:7900 ,accuracy:0.782 ,loss:0.459 ,lr:0.024778234798552953,\n",
      "epoch:8000 ,accuracy:0.808 ,loss:0.438 ,lr:0.02477700693756195,\n",
      "epoch:8100 ,accuracy:0.782 ,loss:0.440 ,lr:0.024775779198255785,\n",
      "epoch:8200 ,accuracy:0.769 ,loss:0.454 ,lr:0.02477455158061639,\n",
      "epoch:8300 ,accuracy:0.859 ,loss:0.403 ,lr:0.024773324084625677,\n",
      "epoch:8400 ,accuracy:0.705 ,loss:0.485 ,lr:0.024772096710265555,\n",
      "epoch:8500 ,accuracy:0.782 ,loss:0.434 ,lr:0.024770869457517962,\n",
      "epoch:8600 ,accuracy:0.833 ,loss:0.419 ,lr:0.024769642326364805,\n",
      "epoch:8700 ,accuracy:0.782 ,loss:0.434 ,lr:0.024768415316788035,\n",
      "epoch:8800 ,accuracy:0.833 ,loss:0.417 ,lr:0.024767188428769567,\n",
      "epoch:8900 ,accuracy:0.846 ,loss:0.406 ,lr:0.02476596166229135,\n",
      "epoch:9000 ,accuracy:0.782 ,loss:0.459 ,lr:0.024764735017335313,\n",
      "epoch:9100 ,accuracy:0.808 ,loss:0.421 ,lr:0.024763508493883417,\n",
      "epoch:9200 ,accuracy:0.808 ,loss:0.434 ,lr:0.02476228209191759,\n",
      "epoch:9300 ,accuracy:0.769 ,loss:0.468 ,lr:0.0247610558114198,\n",
      "epoch:9400 ,accuracy:0.756 ,loss:0.442 ,lr:0.02475982965237199,\n",
      "epoch:9500 ,accuracy:0.821 ,loss:0.420 ,lr:0.024758603614756132,\n",
      "epoch:9600 ,accuracy:0.833 ,loss:0.409 ,lr:0.02475737769855417,\n",
      "epoch:9700 ,accuracy:0.782 ,loss:0.442 ,lr:0.024756151903748084,\n",
      "epoch:9800 ,accuracy:0.795 ,loss:0.464 ,lr:0.024754926230319833,\n",
      "epoch:9900 ,accuracy:0.795 ,loss:0.431 ,lr:0.024753700678251403,\n",
      "epoch:10000 ,accuracy:0.859 ,loss:0.406 ,lr:0.024752475247524754,\n",
      "epoch:10100 ,accuracy:0.782 ,loss:0.435 ,lr:0.024751249938121878,\n",
      "epoch:10200 ,accuracy:0.795 ,loss:0.425 ,lr:0.02475002475002475,\n",
      "epoch:10300 ,accuracy:0.808 ,loss:0.429 ,lr:0.02474879968321536,\n",
      "epoch:10400 ,accuracy:0.846 ,loss:0.423 ,lr:0.02474757473767571,\n",
      "epoch:10500 ,accuracy:0.782 ,loss:0.435 ,lr:0.024746349913387772,\n",
      "epoch:10600 ,accuracy:0.782 ,loss:0.441 ,lr:0.024745125210333566,\n",
      "epoch:10700 ,accuracy:0.731 ,loss:0.470 ,lr:0.024743900628495075,\n",
      "epoch:10800 ,accuracy:0.821 ,loss:0.434 ,lr:0.02474267616785432,\n",
      "epoch:10900 ,accuracy:0.846 ,loss:0.383 ,lr:0.02474145182839329,\n",
      "epoch:11000 ,accuracy:0.769 ,loss:0.442 ,lr:0.024740227610094017,\n"
     ]
    }
   ],
   "source": [
    "new_input=new_data.loc[:,['Age', 'Weight', 'Delivery phase', 'HB', 'IFA', 'BP', 'Residence']]\n",
    "new_result=new_data['Result']\n",
    "input11,x_test11, result11, y_test11 = train_test_split(new_input, new_result, test_size=0.35, random_state=42)\n",
    "Hlayer11=ANN_layers(7,128)\n",
    "#Hlayer12=ANN_layers(16,8)\n",
    "Output_layer1=ANN_layers(128,2)\n",
    "act11=activation()\n",
    "#act12=activation()\n",
    "loss_activation1=Activation_softmax_LCCE()\n",
    "optimize1 = optimizer(l_rate=0.05,decay=5e-7)\n",
    "for epoch in range(11001):\n",
    "    Hlayer11.fpropogation(input11)\n",
    "    act11.fRelu(Hlayer11.output)\n",
    "    #Hlayer12.fpropogation(act11.output)\n",
    "    #act12.fRelu(Hlayer12.output)\n",
    "    Output_layer1.fpropogation(act11.output)\n",
    "    loss1 = loss_activation1.forward(Output_layer1.output,result11)\n",
    "    prediction1 = np.argmax(loss_activation1.output,axis=1)\n",
    "    if len(result11.shape)==2:\n",
    "        result11=np.argmax(result11,axis=1)\n",
    "    accuracy1= np.mean(prediction1==result11)\n",
    "    if not epoch %100:\n",
    "        print(f'epoch:{epoch} ,'+\n",
    "              f'accuracy:{accuracy1:.3f} ,'+\n",
    "              f'loss:{loss1:.3f} ,'+\n",
    "              f'lr:{optimize.curr_l_rate},')\n",
    "        \n",
    "    loss_activation1.backpass(loss_activation1.output,result11)\n",
    "    Output_layer1.Bpropogation(loss_activation1.dinputs)\n",
    "    act11.back(Output_layer1.dinputs)\n",
    "    #Hlayer12.Bpropogation(act12.dinputs)\n",
    "    #act11.back(Hlayer12.dinputs)\n",
    "    Hlayer11.Bpropogation(act11.dinputs)\n",
    "              \n",
    "    optimize.initial_update_param()\n",
    "    optimize.update_params(Hlayer11)\n",
    "    #optimize.update_params(Hlayer12)\n",
    "    optimize.update_params(Output_layer1)\n",
    "    optimize.post_update_params()"
   ]
  },
  {
   "cell_type": "code",
   "execution_count": 44,
   "metadata": {},
   "outputs": [
    {
     "name": "stdout",
     "output_type": "stream",
     "text": [
      "epoch:11000 ,accuracy:0.881 ,loss:0.547 ,lr:0.024740215368522826\n"
     ]
    }
   ],
   "source": [
    "x_test=x_test11\n",
    "y_test=y_test11\n",
    "Hlayer11.fpropogation(x_test)\n",
    "act11.fRelu(Hlayer11.output)\n",
    "#Hlayer12.fpropogation(act11.output)\n",
    "#act12.fRelu(Hlayer12.output)\n",
    "Output_layer1.fpropogation(act11.output)\n",
    "loss1 = loss_activation1.forward(Output_layer1.output,y_test)\n",
    "prediction1 = np.argmax(loss_activation1.output,axis=1)\n",
    "if len(y_test.shape)==2:\n",
    "    result11=np.argmax(y_test,axis=1)\n",
    "accuracy1= np.mean(prediction1==y_test)\n",
    "print(f'epoch:{epoch} ,'+f'accuracy:{accuracy1:.3f} ,'+\n",
    "       f'loss:{loss1:.3f} ,'+\n",
    "      f'lr:{optimize.curr_l_rate}')"
   ]
  },
  {
   "cell_type": "code",
   "execution_count": null,
   "metadata": {},
   "outputs": [],
   "source": []
  },
  {
   "cell_type": "code",
   "execution_count": null,
   "metadata": {},
   "outputs": [],
   "source": []
  }
 ],
 "metadata": {
  "kernelspec": {
   "display_name": "Python 3",
   "language": "python",
   "name": "python3"
  },
  "language_info": {
   "codemirror_mode": {
    "name": "ipython",
    "version": 3
   },
   "file_extension": ".py",
   "mimetype": "text/x-python",
   "name": "python",
   "nbconvert_exporter": "python",
   "pygments_lexer": "ipython3",
   "version": "3.7.6"
  }
 },
 "nbformat": 4,
 "nbformat_minor": 4
}
